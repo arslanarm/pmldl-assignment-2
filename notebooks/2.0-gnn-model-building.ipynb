{
 "cells": [
  {
   "cell_type": "code",
   "execution_count": 169,
   "id": "initial_id",
   "metadata": {
    "collapsed": true,
    "ExecuteTime": {
     "end_time": "2023-11-26T09:04:42.180202900Z",
     "start_time": "2023-11-26T09:04:42.139695200Z"
    }
   },
   "outputs": [],
   "source": [
    "import numpy as np\n",
    "import torch\n",
    "import pandas as pd\n",
    "import torch.nn.functional as F\n",
    "from torch.nn import Linear\n",
    "import torch_geometric.transforms as T\n",
    "from torch_geometric.nn import SAGEConv, to_hetero\n",
    "from torch_geometric.transforms import RandomLinkSplit, ToUndirected\n",
    "from torch_geometric.data import HeteroData\n",
    "\n",
    "data_folder = \"../data/interm/\"\n",
    "\n",
    "device = torch.device(\"cuda\" if torch.cuda.is_available() else \"cpu\")\n",
    "# device = \"cpu\""
   ]
  },
  {
   "cell_type": "code",
   "execution_count": 170,
   "outputs": [],
   "source": [
    "users = pd.read_csv(data_folder + \"users.csv\")\n",
    "items = pd.read_csv(data_folder + \"items.csv\")\n",
    "ratings = pd.read_csv(data_folder + \"ratings.csv\")\n",
    "genres = pd.read_csv(\"../data/raw/ml-100k/u.genre\", delimiter=\"|\", names=[\"name\",\"index\"])"
   ],
   "metadata": {
    "collapsed": false,
    "ExecuteTime": {
     "end_time": "2023-11-26T09:04:42.216202800Z",
     "start_time": "2023-11-26T09:04:42.148694700Z"
    }
   },
   "id": "cc96f440cf052ce5"
  },
  {
   "cell_type": "markdown",
   "source": [
    "Edges: ratings\n",
    "Nodes: users, items\n",
    "Graph type: bipartite"
   ],
   "metadata": {
    "collapsed": false
   },
   "id": "51b93cb251d5ab72"
  },
  {
   "cell_type": "code",
   "execution_count": 171,
   "outputs": [],
   "source": [
    "def create_torch_edges(ratings):\n",
    "    src = ratings[\"user_id\"] - 1\n",
    "    dst = ratings[\"item_id\"] - 1\n",
    "    attrs = ratings[\"rating\"]\n",
    "    \n",
    "    edge_index = torch.tensor([src, dst], dtype=torch.int64)\n",
    "    edge_attr = torch.tensor(attrs)\n",
    "    \n",
    "    return edge_index, edge_attr"
   ],
   "metadata": {
    "collapsed": false,
    "ExecuteTime": {
     "end_time": "2023-11-26T09:04:42.217203100Z",
     "start_time": "2023-11-26T09:04:42.180202900Z"
    }
   },
   "id": "41273aa8452e27d4"
  },
  {
   "cell_type": "code",
   "execution_count": 172,
   "outputs": [],
   "source": [
    "edge_index, edge_attr = create_torch_edges(ratings)"
   ],
   "metadata": {
    "collapsed": false,
    "ExecuteTime": {
     "end_time": "2023-11-26T09:04:42.353827700Z",
     "start_time": "2023-11-26T09:04:42.196203100Z"
    }
   },
   "id": "28f9ad75f57cfea7"
  },
  {
   "cell_type": "code",
   "execution_count": 173,
   "outputs": [
    {
     "data": {
      "text/plain": "torch.Size([2, 100000])"
     },
     "execution_count": 173,
     "metadata": {},
     "output_type": "execute_result"
    }
   ],
   "source": [
    "edge_index.shape"
   ],
   "metadata": {
    "collapsed": false,
    "ExecuteTime": {
     "end_time": "2023-11-26T09:04:42.367828100Z",
     "start_time": "2023-11-26T09:04:42.354827Z"
    }
   },
   "id": "7fed97aa2a26e3c4"
  },
  {
   "cell_type": "code",
   "execution_count": 174,
   "outputs": [
    {
     "data": {
      "text/plain": "      movie_id                                movie_title  unknown  Action  \\\n0            1                           Toy Story (1995)        0       0   \n1            2                           GoldenEye (1995)        0       1   \n2            3                          Four Rooms (1995)        0       0   \n3            4                          Get Shorty (1995)        0       1   \n4            5                             Copycat (1995)        0       0   \n...        ...                                        ...      ...     ...   \n1677      1678                          Mat' i syn (1997)        0       0   \n1678      1679                           B. Monkey (1998)        0       0   \n1679      1680                       Sliding Doors (1998)        0       0   \n1680      1681                        You So Crazy (1994)        0       0   \n1681      1682  Scream of Stone (Schrei aus Stein) (1991)        0       0   \n\n      Adventure  Animation  Children's  Comedy  Crime  Documentary  ...  \\\n0             0          1           1       1      0            0  ...   \n1             1          0           0       0      0            0  ...   \n2             0          0           0       0      0            0  ...   \n3             0          0           0       1      0            0  ...   \n4             0          0           0       0      1            0  ...   \n...         ...        ...         ...     ...    ...          ...  ...   \n1677          0          0           0       0      0            0  ...   \n1678          0          0           0       0      0            0  ...   \n1679          0          0           0       0      0            0  ...   \n1680          0          0           0       1      0            0  ...   \n1681          0          0           0       0      0            0  ...   \n\n      Film-Noir  Horror  Musical  Mystery  Romance  Sci-Fi  Thriller  War  \\\n0             0       0        0        0        0       0         0    0   \n1             0       0        0        0        0       0         1    0   \n2             0       0        0        0        0       0         1    0   \n3             0       0        0        0        0       0         0    0   \n4             0       0        0        0        0       0         1    0   \n...         ...     ...      ...      ...      ...     ...       ...  ...   \n1677          0       0        0        0        0       0         0    0   \n1678          0       0        0        0        1       0         1    0   \n1679          0       0        0        0        1       0         0    0   \n1680          0       0        0        0        0       0         0    0   \n1681          0       0        0        0        0       0         0    0   \n\n      Western  release_year  \n0           0        1995.0  \n1           0        1995.0  \n2           0        1995.0  \n3           0        1995.0  \n4           0        1995.0  \n...       ...           ...  \n1677        0        1998.0  \n1678        0        1998.0  \n1679        0        1998.0  \n1680        0        1994.0  \n1681        0        1996.0  \n\n[1682 rows x 22 columns]",
      "text/html": "<div>\n<style scoped>\n    .dataframe tbody tr th:only-of-type {\n        vertical-align: middle;\n    }\n\n    .dataframe tbody tr th {\n        vertical-align: top;\n    }\n\n    .dataframe thead th {\n        text-align: right;\n    }\n</style>\n<table border=\"1\" class=\"dataframe\">\n  <thead>\n    <tr style=\"text-align: right;\">\n      <th></th>\n      <th>movie_id</th>\n      <th>movie_title</th>\n      <th>unknown</th>\n      <th>Action</th>\n      <th>Adventure</th>\n      <th>Animation</th>\n      <th>Children's</th>\n      <th>Comedy</th>\n      <th>Crime</th>\n      <th>Documentary</th>\n      <th>...</th>\n      <th>Film-Noir</th>\n      <th>Horror</th>\n      <th>Musical</th>\n      <th>Mystery</th>\n      <th>Romance</th>\n      <th>Sci-Fi</th>\n      <th>Thriller</th>\n      <th>War</th>\n      <th>Western</th>\n      <th>release_year</th>\n    </tr>\n  </thead>\n  <tbody>\n    <tr>\n      <th>0</th>\n      <td>1</td>\n      <td>Toy Story (1995)</td>\n      <td>0</td>\n      <td>0</td>\n      <td>0</td>\n      <td>1</td>\n      <td>1</td>\n      <td>1</td>\n      <td>0</td>\n      <td>0</td>\n      <td>...</td>\n      <td>0</td>\n      <td>0</td>\n      <td>0</td>\n      <td>0</td>\n      <td>0</td>\n      <td>0</td>\n      <td>0</td>\n      <td>0</td>\n      <td>0</td>\n      <td>1995.0</td>\n    </tr>\n    <tr>\n      <th>1</th>\n      <td>2</td>\n      <td>GoldenEye (1995)</td>\n      <td>0</td>\n      <td>1</td>\n      <td>1</td>\n      <td>0</td>\n      <td>0</td>\n      <td>0</td>\n      <td>0</td>\n      <td>0</td>\n      <td>...</td>\n      <td>0</td>\n      <td>0</td>\n      <td>0</td>\n      <td>0</td>\n      <td>0</td>\n      <td>0</td>\n      <td>1</td>\n      <td>0</td>\n      <td>0</td>\n      <td>1995.0</td>\n    </tr>\n    <tr>\n      <th>2</th>\n      <td>3</td>\n      <td>Four Rooms (1995)</td>\n      <td>0</td>\n      <td>0</td>\n      <td>0</td>\n      <td>0</td>\n      <td>0</td>\n      <td>0</td>\n      <td>0</td>\n      <td>0</td>\n      <td>...</td>\n      <td>0</td>\n      <td>0</td>\n      <td>0</td>\n      <td>0</td>\n      <td>0</td>\n      <td>0</td>\n      <td>1</td>\n      <td>0</td>\n      <td>0</td>\n      <td>1995.0</td>\n    </tr>\n    <tr>\n      <th>3</th>\n      <td>4</td>\n      <td>Get Shorty (1995)</td>\n      <td>0</td>\n      <td>1</td>\n      <td>0</td>\n      <td>0</td>\n      <td>0</td>\n      <td>1</td>\n      <td>0</td>\n      <td>0</td>\n      <td>...</td>\n      <td>0</td>\n      <td>0</td>\n      <td>0</td>\n      <td>0</td>\n      <td>0</td>\n      <td>0</td>\n      <td>0</td>\n      <td>0</td>\n      <td>0</td>\n      <td>1995.0</td>\n    </tr>\n    <tr>\n      <th>4</th>\n      <td>5</td>\n      <td>Copycat (1995)</td>\n      <td>0</td>\n      <td>0</td>\n      <td>0</td>\n      <td>0</td>\n      <td>0</td>\n      <td>0</td>\n      <td>1</td>\n      <td>0</td>\n      <td>...</td>\n      <td>0</td>\n      <td>0</td>\n      <td>0</td>\n      <td>0</td>\n      <td>0</td>\n      <td>0</td>\n      <td>1</td>\n      <td>0</td>\n      <td>0</td>\n      <td>1995.0</td>\n    </tr>\n    <tr>\n      <th>...</th>\n      <td>...</td>\n      <td>...</td>\n      <td>...</td>\n      <td>...</td>\n      <td>...</td>\n      <td>...</td>\n      <td>...</td>\n      <td>...</td>\n      <td>...</td>\n      <td>...</td>\n      <td>...</td>\n      <td>...</td>\n      <td>...</td>\n      <td>...</td>\n      <td>...</td>\n      <td>...</td>\n      <td>...</td>\n      <td>...</td>\n      <td>...</td>\n      <td>...</td>\n      <td>...</td>\n    </tr>\n    <tr>\n      <th>1677</th>\n      <td>1678</td>\n      <td>Mat' i syn (1997)</td>\n      <td>0</td>\n      <td>0</td>\n      <td>0</td>\n      <td>0</td>\n      <td>0</td>\n      <td>0</td>\n      <td>0</td>\n      <td>0</td>\n      <td>...</td>\n      <td>0</td>\n      <td>0</td>\n      <td>0</td>\n      <td>0</td>\n      <td>0</td>\n      <td>0</td>\n      <td>0</td>\n      <td>0</td>\n      <td>0</td>\n      <td>1998.0</td>\n    </tr>\n    <tr>\n      <th>1678</th>\n      <td>1679</td>\n      <td>B. Monkey (1998)</td>\n      <td>0</td>\n      <td>0</td>\n      <td>0</td>\n      <td>0</td>\n      <td>0</td>\n      <td>0</td>\n      <td>0</td>\n      <td>0</td>\n      <td>...</td>\n      <td>0</td>\n      <td>0</td>\n      <td>0</td>\n      <td>0</td>\n      <td>1</td>\n      <td>0</td>\n      <td>1</td>\n      <td>0</td>\n      <td>0</td>\n      <td>1998.0</td>\n    </tr>\n    <tr>\n      <th>1679</th>\n      <td>1680</td>\n      <td>Sliding Doors (1998)</td>\n      <td>0</td>\n      <td>0</td>\n      <td>0</td>\n      <td>0</td>\n      <td>0</td>\n      <td>0</td>\n      <td>0</td>\n      <td>0</td>\n      <td>...</td>\n      <td>0</td>\n      <td>0</td>\n      <td>0</td>\n      <td>0</td>\n      <td>1</td>\n      <td>0</td>\n      <td>0</td>\n      <td>0</td>\n      <td>0</td>\n      <td>1998.0</td>\n    </tr>\n    <tr>\n      <th>1680</th>\n      <td>1681</td>\n      <td>You So Crazy (1994)</td>\n      <td>0</td>\n      <td>0</td>\n      <td>0</td>\n      <td>0</td>\n      <td>0</td>\n      <td>1</td>\n      <td>0</td>\n      <td>0</td>\n      <td>...</td>\n      <td>0</td>\n      <td>0</td>\n      <td>0</td>\n      <td>0</td>\n      <td>0</td>\n      <td>0</td>\n      <td>0</td>\n      <td>0</td>\n      <td>0</td>\n      <td>1994.0</td>\n    </tr>\n    <tr>\n      <th>1681</th>\n      <td>1682</td>\n      <td>Scream of Stone (Schrei aus Stein) (1991)</td>\n      <td>0</td>\n      <td>0</td>\n      <td>0</td>\n      <td>0</td>\n      <td>0</td>\n      <td>0</td>\n      <td>0</td>\n      <td>0</td>\n      <td>...</td>\n      <td>0</td>\n      <td>0</td>\n      <td>0</td>\n      <td>0</td>\n      <td>0</td>\n      <td>0</td>\n      <td>0</td>\n      <td>0</td>\n      <td>0</td>\n      <td>1996.0</td>\n    </tr>\n  </tbody>\n</table>\n<p>1682 rows × 22 columns</p>\n</div>"
     },
     "execution_count": 174,
     "metadata": {},
     "output_type": "execute_result"
    }
   ],
   "source": [
    "items"
   ],
   "metadata": {
    "collapsed": false,
    "ExecuteTime": {
     "end_time": "2023-11-26T09:04:42.397826400Z",
     "start_time": "2023-11-26T09:04:42.367828100Z"
    }
   },
   "id": "341b1c3bc755dea9"
  },
  {
   "cell_type": "code",
   "execution_count": 175,
   "outputs": [],
   "source": [
    "item_genres = torch.tensor(items[genres.name].to_numpy(), dtype=torch.bool)\n",
    "item_release_year = torch.tensor(items[\"release_year\"].to_numpy()[:,np.newaxis], dtype=torch.int32)\n",
    "\n",
    "item_x = torch.cat((item_genres, item_release_year), dim=-1).float()"
   ],
   "metadata": {
    "collapsed": false,
    "ExecuteTime": {
     "end_time": "2023-11-26T09:04:42.428826600Z",
     "start_time": "2023-11-26T09:04:42.383827200Z"
    }
   },
   "id": "a201cb82c6e6699e"
  },
  {
   "cell_type": "code",
   "execution_count": 176,
   "outputs": [
    {
     "data": {
      "text/plain": "     user_id  age zip_code   male  female  occupation_technician  \\\n0          1   24    85711   True   False                   True   \n1          2   53    94043  False    True                  False   \n2          3   23    32067   True   False                  False   \n3          4   24    43537   True   False                   True   \n4          5   33    15213  False    True                  False   \n..       ...  ...      ...    ...     ...                    ...   \n938      939   26    33319  False    True                  False   \n939      940   32    02215   True   False                  False   \n940      941   20    97229   True   False                  False   \n941      942   48    78209  False    True                  False   \n942      943   22    77841   True   False                  False   \n\n     occupation_other  occupation_writer  occupation_executive  \\\n0               False              False                 False   \n1                True              False                 False   \n2               False               True                 False   \n3               False              False                 False   \n4                True              False                 False   \n..                ...                ...                   ...   \n938             False              False                 False   \n939             False              False                 False   \n940             False              False                 False   \n941             False              False                 False   \n942             False              False                 False   \n\n     occupation_administrator  ...  occupation_librarian  \\\n0                       False  ...                 False   \n1                       False  ...                 False   \n2                       False  ...                 False   \n3                       False  ...                 False   \n4                       False  ...                 False   \n..                        ...  ...                   ...   \n938                     False  ...                 False   \n939                      True  ...                 False   \n940                     False  ...                 False   \n941                     False  ...                  True   \n942                     False  ...                 False   \n\n     occupation_homemaker  occupation_artist  occupation_engineer  \\\n0                   False              False                False   \n1                   False              False                False   \n2                   False              False                False   \n3                   False              False                False   \n4                   False              False                False   \n..                    ...                ...                  ...   \n938                 False              False                False   \n939                 False              False                False   \n940                 False              False                False   \n941                 False              False                False   \n942                 False              False                False   \n\n     occupation_marketing  occupation_none  occupation_healthcare  \\\n0                   False            False                  False   \n1                   False            False                  False   \n2                   False            False                  False   \n3                   False            False                  False   \n4                   False            False                  False   \n..                    ...              ...                    ...   \n938                 False            False                  False   \n939                 False            False                  False   \n940                 False            False                  False   \n941                 False            False                  False   \n942                 False            False                  False   \n\n     occupation_retired  occupation_salesman  occupation_doctor  \n0                 False                False              False  \n1                 False                False              False  \n2                 False                False              False  \n3                 False                False              False  \n4                 False                False              False  \n..                  ...                  ...                ...  \n938               False                False              False  \n939               False                False              False  \n940               False                False              False  \n941               False                False              False  \n942               False                False              False  \n\n[943 rows x 26 columns]",
      "text/html": "<div>\n<style scoped>\n    .dataframe tbody tr th:only-of-type {\n        vertical-align: middle;\n    }\n\n    .dataframe tbody tr th {\n        vertical-align: top;\n    }\n\n    .dataframe thead th {\n        text-align: right;\n    }\n</style>\n<table border=\"1\" class=\"dataframe\">\n  <thead>\n    <tr style=\"text-align: right;\">\n      <th></th>\n      <th>user_id</th>\n      <th>age</th>\n      <th>zip_code</th>\n      <th>male</th>\n      <th>female</th>\n      <th>occupation_technician</th>\n      <th>occupation_other</th>\n      <th>occupation_writer</th>\n      <th>occupation_executive</th>\n      <th>occupation_administrator</th>\n      <th>...</th>\n      <th>occupation_librarian</th>\n      <th>occupation_homemaker</th>\n      <th>occupation_artist</th>\n      <th>occupation_engineer</th>\n      <th>occupation_marketing</th>\n      <th>occupation_none</th>\n      <th>occupation_healthcare</th>\n      <th>occupation_retired</th>\n      <th>occupation_salesman</th>\n      <th>occupation_doctor</th>\n    </tr>\n  </thead>\n  <tbody>\n    <tr>\n      <th>0</th>\n      <td>1</td>\n      <td>24</td>\n      <td>85711</td>\n      <td>True</td>\n      <td>False</td>\n      <td>True</td>\n      <td>False</td>\n      <td>False</td>\n      <td>False</td>\n      <td>False</td>\n      <td>...</td>\n      <td>False</td>\n      <td>False</td>\n      <td>False</td>\n      <td>False</td>\n      <td>False</td>\n      <td>False</td>\n      <td>False</td>\n      <td>False</td>\n      <td>False</td>\n      <td>False</td>\n    </tr>\n    <tr>\n      <th>1</th>\n      <td>2</td>\n      <td>53</td>\n      <td>94043</td>\n      <td>False</td>\n      <td>True</td>\n      <td>False</td>\n      <td>True</td>\n      <td>False</td>\n      <td>False</td>\n      <td>False</td>\n      <td>...</td>\n      <td>False</td>\n      <td>False</td>\n      <td>False</td>\n      <td>False</td>\n      <td>False</td>\n      <td>False</td>\n      <td>False</td>\n      <td>False</td>\n      <td>False</td>\n      <td>False</td>\n    </tr>\n    <tr>\n      <th>2</th>\n      <td>3</td>\n      <td>23</td>\n      <td>32067</td>\n      <td>True</td>\n      <td>False</td>\n      <td>False</td>\n      <td>False</td>\n      <td>True</td>\n      <td>False</td>\n      <td>False</td>\n      <td>...</td>\n      <td>False</td>\n      <td>False</td>\n      <td>False</td>\n      <td>False</td>\n      <td>False</td>\n      <td>False</td>\n      <td>False</td>\n      <td>False</td>\n      <td>False</td>\n      <td>False</td>\n    </tr>\n    <tr>\n      <th>3</th>\n      <td>4</td>\n      <td>24</td>\n      <td>43537</td>\n      <td>True</td>\n      <td>False</td>\n      <td>True</td>\n      <td>False</td>\n      <td>False</td>\n      <td>False</td>\n      <td>False</td>\n      <td>...</td>\n      <td>False</td>\n      <td>False</td>\n      <td>False</td>\n      <td>False</td>\n      <td>False</td>\n      <td>False</td>\n      <td>False</td>\n      <td>False</td>\n      <td>False</td>\n      <td>False</td>\n    </tr>\n    <tr>\n      <th>4</th>\n      <td>5</td>\n      <td>33</td>\n      <td>15213</td>\n      <td>False</td>\n      <td>True</td>\n      <td>False</td>\n      <td>True</td>\n      <td>False</td>\n      <td>False</td>\n      <td>False</td>\n      <td>...</td>\n      <td>False</td>\n      <td>False</td>\n      <td>False</td>\n      <td>False</td>\n      <td>False</td>\n      <td>False</td>\n      <td>False</td>\n      <td>False</td>\n      <td>False</td>\n      <td>False</td>\n    </tr>\n    <tr>\n      <th>...</th>\n      <td>...</td>\n      <td>...</td>\n      <td>...</td>\n      <td>...</td>\n      <td>...</td>\n      <td>...</td>\n      <td>...</td>\n      <td>...</td>\n      <td>...</td>\n      <td>...</td>\n      <td>...</td>\n      <td>...</td>\n      <td>...</td>\n      <td>...</td>\n      <td>...</td>\n      <td>...</td>\n      <td>...</td>\n      <td>...</td>\n      <td>...</td>\n      <td>...</td>\n      <td>...</td>\n    </tr>\n    <tr>\n      <th>938</th>\n      <td>939</td>\n      <td>26</td>\n      <td>33319</td>\n      <td>False</td>\n      <td>True</td>\n      <td>False</td>\n      <td>False</td>\n      <td>False</td>\n      <td>False</td>\n      <td>False</td>\n      <td>...</td>\n      <td>False</td>\n      <td>False</td>\n      <td>False</td>\n      <td>False</td>\n      <td>False</td>\n      <td>False</td>\n      <td>False</td>\n      <td>False</td>\n      <td>False</td>\n      <td>False</td>\n    </tr>\n    <tr>\n      <th>939</th>\n      <td>940</td>\n      <td>32</td>\n      <td>02215</td>\n      <td>True</td>\n      <td>False</td>\n      <td>False</td>\n      <td>False</td>\n      <td>False</td>\n      <td>False</td>\n      <td>True</td>\n      <td>...</td>\n      <td>False</td>\n      <td>False</td>\n      <td>False</td>\n      <td>False</td>\n      <td>False</td>\n      <td>False</td>\n      <td>False</td>\n      <td>False</td>\n      <td>False</td>\n      <td>False</td>\n    </tr>\n    <tr>\n      <th>940</th>\n      <td>941</td>\n      <td>20</td>\n      <td>97229</td>\n      <td>True</td>\n      <td>False</td>\n      <td>False</td>\n      <td>False</td>\n      <td>False</td>\n      <td>False</td>\n      <td>False</td>\n      <td>...</td>\n      <td>False</td>\n      <td>False</td>\n      <td>False</td>\n      <td>False</td>\n      <td>False</td>\n      <td>False</td>\n      <td>False</td>\n      <td>False</td>\n      <td>False</td>\n      <td>False</td>\n    </tr>\n    <tr>\n      <th>941</th>\n      <td>942</td>\n      <td>48</td>\n      <td>78209</td>\n      <td>False</td>\n      <td>True</td>\n      <td>False</td>\n      <td>False</td>\n      <td>False</td>\n      <td>False</td>\n      <td>False</td>\n      <td>...</td>\n      <td>True</td>\n      <td>False</td>\n      <td>False</td>\n      <td>False</td>\n      <td>False</td>\n      <td>False</td>\n      <td>False</td>\n      <td>False</td>\n      <td>False</td>\n      <td>False</td>\n    </tr>\n    <tr>\n      <th>942</th>\n      <td>943</td>\n      <td>22</td>\n      <td>77841</td>\n      <td>True</td>\n      <td>False</td>\n      <td>False</td>\n      <td>False</td>\n      <td>False</td>\n      <td>False</td>\n      <td>False</td>\n      <td>...</td>\n      <td>False</td>\n      <td>False</td>\n      <td>False</td>\n      <td>False</td>\n      <td>False</td>\n      <td>False</td>\n      <td>False</td>\n      <td>False</td>\n      <td>False</td>\n      <td>False</td>\n    </tr>\n  </tbody>\n</table>\n<p>943 rows × 26 columns</p>\n</div>"
     },
     "execution_count": 176,
     "metadata": {},
     "output_type": "execute_result"
    }
   ],
   "source": [
    "users"
   ],
   "metadata": {
    "collapsed": false,
    "ExecuteTime": {
     "end_time": "2023-11-26T09:04:42.455339Z",
     "start_time": "2023-11-26T09:04:42.399826800Z"
    }
   },
   "id": "d1942a41fd8d13cb"
  },
  {
   "cell_type": "code",
   "execution_count": 177,
   "outputs": [
    {
     "data": {
      "text/plain": "array(['85711', '94043', '32067', '43537', '15213', '98101', '91344',\n       '05201', '01002', '90703', '30329', '06405', '29206', '55106',\n       '97301', '10309', '06355', '37212', '02138', '95660', '30068',\n       '40206', '48197', '94533', '55107', '21044', '30030', '55369',\n       '94043', '55436', '10003', '78741', '27510', '42141', '42459',\n       '93117', '55105', '54467', '01040', '27514', '80525', '17870',\n       '20854', '46260', '50233', '46538', '07102', '12550', '76111',\n       '52245', '16509', '55105', '55414', '66315', '01331', '46260',\n       '84010', '52246', '08403', '06472', '30040', '97214', '75240',\n       '43202', '48118', '80521', '60402', '22904', '55337', '60067',\n       '98034', '73034', '41850', 'T8H1N', '08816', '02215', '29379',\n       '61801', '03755', '52241', '21218', '22902', '44133', '55369',\n       '20003', '46005', '89503', '11701', '68106', '78155', '01913',\n       '80525', '23112', '71457', '10707', '75206', '98006', '90291',\n       '63129', '90254', '05146', '30220', '55108', '55108', '94043',\n       '55125', '60466', '63130', '55423', '77840', '90630', '60613',\n       '95032', '75013', '17110', '97232', '16125', '90210', '67401',\n       '06260', '99603', '22206', '20008', '60615', '22202', '20015',\n       '73439', '20009', '07039', '60115', '15237', '94612', '78602',\n       '80236', '38401', '97365', '84408', '53211', '08904', '32250',\n       '36117', '48118', '08832', '20910', 'V3N4P', '83814', '02143',\n       '97006', '17325', '02139', '48103', '68767', '60641', '53703',\n       '11217', '08360', '70808', '27606', '55346', '66215', '55104',\n       '15610', '97212', '80123', '53715', '55113', 'L9G2B', '80127',\n       '53705', '30067', '78750', '22207', '22306', '52302', '21911',\n       '07030', '19104', '49512', '20755', '60202', '21218', '33884',\n       '27708', '76013', '97403', '00000', '16801', '29440', '95014',\n       '95938', '95161', '90840', '49931', '02154', '93555', '55105',\n       '75094', '55414', '17604', '93402', 'E2A4H', '60201', '32301',\n       '10960', '06371', '53115', '92037', '01720', '85710', '03060',\n       '32605', '61401', '55345', '11231', '63033', '02215', '11727',\n       '06513', '43212', '78205', '20685', '27502', '47906', '43512',\n       '58202', '92103', '60659', '22003', '22903', '14476', '01080',\n       '99709', '98682', '94702', '22973', '53214', '63146', '44124',\n       '95628', '20784', '20001', '31404', '60201', '80525', '55109',\n       '28734', '20770', '37235', '84103', '95110', '85032', '07733',\n       '22903', '42647', '07029', '39042', '77005', '77801', '48823',\n       '89801', '85202', '78264', '55346', '90064', '84601', '78756',\n       '83716', '19422', '43201', '63119', '22932', '53706', '10016',\n       '55414', '92064', '95064', '55406', '30033', '85251', '22903',\n       '06059', '20057', '55305', '92629', '53713', '15217', '31211',\n       '23226', '94619', '93550', '44106', '94703', '60804', '92110',\n       '50325', '16803', '98103', '01581', '63108', '55106', '55439',\n       '77904', '14853', '71701', '94086', '73132', '55454', '95076',\n       '70802', '91711', '73071', '02110', '60035', '08043', '18301',\n       '77009', '13210', '06518', '22030', '24060', '55413', '50613',\n       '19149', '02176', '02139', '15235', '11101', '06779', '01720',\n       '33884', '91344', '40504', 'V0R2M', '30002', '33775', '42101',\n       '10522', '59717', '37901', '80123', '44405', '98006', '30093',\n       '94117', '94143', '76059', '90210', '45660', '61455', '97301',\n       '49938', '55105', '28480', '48197', '60135', '92688', '98133',\n       '10022', '61801', '98027', '44074', '85233', '87501', '01810',\n       '20009', '50670', '37411', '92113', '91335', '08534', '99206',\n       '66046', '55116', '78746', '37777', '10010', '18015', '02859',\n       '98117', '55117', '94608', '01824', '75204', '45218', '10003',\n       '43221', '37412', '36106', '83702', '85016', '84604', '59801',\n       '83686', '96819', '44092', '94551', '27514', '60008', '92374',\n       '78213', '84107', '95129', '06811', '55108', '10019', '93109',\n       '03261', '61755', '98225', '94025', '44691', '15222', '78212',\n       '38115', '85711', '92626', '48103', '21206', '43215', '02140',\n       '55105', '94533', '91606', '55422', '58644', '01602', '85258',\n       '55414', '29205', '98199', '92629', '50311', '11211', '49705',\n       '60007', '17345', '20009', '43204', '20817', '48076', '55013',\n       '85282', '33308', '53202', '92653', '60201', '55113', '10021',\n       '55021', '11758', '48446', '28018', '06333', '97330', '83709',\n       '31820', '30011', 'Y1A6B', '29201', '60630', '98102', '02918',\n       '75218', '94583', '05001', '90804', '91201', '02341', '78628',\n       '10021', '77459', '87544', '94708', '93711', '75230', '60440',\n       '02125', '10019', '55409', '98257', '37771', '40256', '43212',\n       '21208', '95821', '93101', '92121', '21012', '45218', 'V5A2B',\n       '53711', '94618', '60090', '49428', '03052', '55414', '50112',\n       '55408', '75006', '94305', '10025', '23092', '27514', '92115',\n       '20657', '03869', '28450', '19382', '10011', '98038', '21250',\n       '20090', '26241', '20707', '49508', '10021', '55454', '99709',\n       '55320', '12603', '02146', '55443', '04102', '02159', '19711',\n       '97124', '12180', '55104', '44224', '94040', '97408', '92705',\n       '02324', '05464', '80302', '30078', '22902', '21010', '80303',\n       '91201', '84302', '60515', '95123', '29464', '08052', '22911',\n       '14534', '95468', '45680', '95453', '55414', '68147', '62901',\n       '62901', '23227', '30606', '11217', '63132', '10022', '10003',\n       '60005', '20879', '32707', '94591', '55422', '14627', '10003',\n       '01915', '91903', '14627', '01945', '20003', '48911', '53188',\n       '46032', '98281', '77845', 'M7A1A', '48103', '17961', '94131',\n       '93003', '29631', '27511', '98501', '79508', '14216', '93063',\n       '90034', '82435', '92093', '97520', '68767', 'M4J2K', '31909',\n       '77073', '84116', '43085', 'R3T5K', '02320', '99687', '34656',\n       '47905', '11787', '33716', '63044', '02154', '10003', '55106',\n       '21227', '77008', '79070', '29678', '80227', '27705', '50613',\n       '11201', '44212', '44134', '81648', '60402', '14850', '60187',\n       '30067', '20723', '19807', '08034', '94306', '44224', '55408',\n       '38866', '55454', '55414', 'T8H1N', '23237', '48043', '74101',\n       '01940', '12065', '61801', '60626', '95521', '55122', '63645',\n       '53211', '51250', '45810', '91351', '39762', '83814', '02903',\n       '22911', '55105', '78739', '60657', '10314', '78704', '92626',\n       '54248', '77380', '98121', '19102', '19341', '94115', '55412',\n       '61820', '01970', '10016', '20009', '21114', '91919', '90095',\n       '22906', '55337', '28814', '32712', '99835', '61462', '54302',\n       '90405', '97208', '55128', '23509', '55414', '55409', '26506',\n       '27713', '60476', '45439', '63304', '60089', '18053', '85210',\n       '06365', '38115', '94920', '77042', '06906', '96754', '76309',\n       '56321', '89104', '49512', '91105', '54494', '55454', '19146',\n       '96349', 'N4T1A', '92020', '15203', '54901', '07204', '55343',\n       '91206', '44265', '84105', '64118', 'V0R2H', '16506', '11238',\n       '17331', '94403', '40243', '91711', '80538', '78741', '94306',\n       '56567', '32114', '70403', '98405', '60630', '63108', '85719',\n       '94618', '98072', '95403', '73162', '22206', '63108', '29210',\n       '92660', '47024', '55113', '19047', '93612', '94720', '80919',\n       '32303', '90034', '21201', '91206', '62901', '97007', '90247',\n       '55104', '53706', '68503', '14211', '97302', '95050', '02113',\n       '62903', '33066', '10960', '00000', '12866', '06927', '14216',\n       '15232', '27105', '55414', '80027', '90036', '51157', '01810',\n       '01960', 'K7L5J', '94560', '48825', '33205', '77081', '91040',\n       '23322', '01754', '98620', '05779', '55420', '80913', '20064',\n       '12205', '85281', '57197', '08610', '33755', '62522', '64131',\n       '19716', '55337', '92154', '34105', '78212', '61820', '20009',\n       '11217', '93555', '90016', '30803', '80526', '73013', '76234',\n       '02136', '12345', '28806', '20755', '60152', '27514', '40205',\n       '37725', '77845', '53144', '50322', '15017', '05452', '77048',\n       '80228', '85282', '80209', '53066', '33765', '77042', '90019',\n       '64153', '11577', '10018', '55409', '01375', '90814', '55406',\n       '47401', '93055', '44212', '95662', '97405', '47130', '55417',\n       '02146', '25652', '78390', '29646', '94086', '40515', '55408',\n       '04988', '97215', 'V1G4L', '09645', '06492', '48322', '14085',\n       '13820', '60089', '63021', '11231', '60302', '92507', '55303',\n       '10025', '65203', '44648', '74078', '33763', '37076', '35802',\n       '20902', '77504', '98027', '55337', '83702', '43017', '40503',\n       '50266', '55337', '95316', '61820', '27249', '17036', '78704',\n       '97301', '03062', '45243', '95823', '74075', '32301', '91505',\n       '33484', '61755', '55116', '18505', 'L1V3W', '97203', '20850',\n       '61073', '30350', '70124', '80526', '68504', '53171', '29301',\n       '53210', '06512', '76201', '08105', '60614', 'N2L5N', '20006',\n       '70116', '14216', '90008', '98801', '21114', 'E2E3R', '11753',\n       '49036', '01701', '55428', '55408', '53711', '07310', '33556',\n       '06437', '48105', '22902', '66221', '32789', '98072', '55038',\n       '33319', '02215', '97229', '78209', '77841'], dtype=object)"
     },
     "execution_count": 177,
     "metadata": {},
     "output_type": "execute_result"
    }
   ],
   "source": [
    "users.zip_code.to_numpy()"
   ],
   "metadata": {
    "collapsed": false,
    "ExecuteTime": {
     "end_time": "2023-11-26T09:04:42.475339700Z",
     "start_time": "2023-11-26T09:04:42.415827800Z"
    }
   },
   "id": "d496e7bffcfd2278"
  },
  {
   "cell_type": "code",
   "execution_count": 178,
   "outputs": [],
   "source": [
    "user_ages = torch.tensor(users[\"age\"].to_numpy()[:,np.newaxis], dtype=torch.uint8)\n",
    "user_sex = torch.tensor(users[[\"male\", \"female\"]].to_numpy(), dtype=torch.bool)\n",
    "occupations = [i for i in users.keys() if i.startswith(\"occupation_\")]\n",
    "user_occupation = torch.tensor(users[occupations].to_numpy(), dtype=torch.bool)\n",
    "user_x = torch.cat((user_ages, user_sex, user_occupation), dim=-1).float()"
   ],
   "metadata": {
    "collapsed": false,
    "ExecuteTime": {
     "end_time": "2023-11-26T09:04:42.476340800Z",
     "start_time": "2023-11-26T09:04:42.431826400Z"
    }
   },
   "id": "38af715c6383f78e"
  },
  {
   "cell_type": "code",
   "execution_count": 179,
   "outputs": [],
   "source": [
    "data = HeteroData()\n",
    "\n",
    "data['user'].x = user_x\n",
    "data['item'].x = item_x\n",
    "data['user', 'rates', 'item'].edge_index = edge_index\n",
    "data['user', 'rates', 'item'].edge_label = edge_attr"
   ],
   "metadata": {
    "collapsed": false,
    "ExecuteTime": {
     "end_time": "2023-11-26T09:04:42.504340100Z",
     "start_time": "2023-11-26T09:04:42.446830900Z"
    }
   },
   "id": "48d66c8cb0521265"
  },
  {
   "cell_type": "code",
   "execution_count": 180,
   "outputs": [],
   "source": [
    "data = ToUndirected()(data)\n",
    "del data['item', 'rev_rates', 'user'].edge_label  # Remove \"reverse\" label.\n",
    "data = data.to(device)\n",
    "\n",
    "# Perform a link-level split into training, validation, and test edges.\n",
    "train_data, val_data, test_data = T.RandomLinkSplit(\n",
    "    num_val=0.1,\n",
    "    num_test=0.1,\n",
    "    neg_sampling_ratio=0.0,\n",
    "    edge_types=[('user', 'rates', 'item')],\n",
    "    rev_edge_types=[('item', 'rev_rates', 'user')],\n",
    ")(data)"
   ],
   "metadata": {
    "collapsed": false,
    "ExecuteTime": {
     "end_time": "2023-11-26T09:04:43.390407600Z",
     "start_time": "2023-11-26T09:04:42.462343400Z"
    }
   },
   "id": "1b42a5cb4e8e1e35"
  },
  {
   "cell_type": "code",
   "execution_count": 181,
   "outputs": [],
   "source": [
    "weight = torch.bincount(train_data['user', 'rates', 'item'].edge_label)\n",
    "weight = weight.max() / weight\n",
    "def weighted_mse_loss(pred, target, weight=None):\n",
    "    weight = 1. if weight is None else weight[target].to(pred.dtype)\n",
    "    return (weight * (pred - target.to(pred.dtype)).pow(2)).mean()"
   ],
   "metadata": {
    "collapsed": false,
    "ExecuteTime": {
     "end_time": "2023-11-26T09:04:43.396407500Z",
     "start_time": "2023-11-26T09:04:43.377401400Z"
    }
   },
   "id": "c288c9c483405a7e"
  },
  {
   "cell_type": "code",
   "execution_count": 182,
   "outputs": [],
   "source": [
    "class GNNEncoder(torch.nn.Module):\n",
    "    def __init__(self, hidden_channels, out_channels):\n",
    "        super().__init__()\n",
    "        # these convolutions have been replicated to match the number of edge types\n",
    "        self.conv1 = SAGEConv((-1, -1), hidden_channels)\n",
    "        self.conv2 = SAGEConv((-1, -1), out_channels)\n",
    "\n",
    "    def forward(self, x, edge_index):\n",
    "        x = self.conv1(x, edge_index).relu()\n",
    "        x = self.conv2(x, edge_index)\n",
    "        return x\n",
    "class EdgeDecoder(torch.nn.Module):\n",
    "    def __init__(self, hidden_channels):\n",
    "        super().__init__()\n",
    "        self.lin1 = Linear(2 * hidden_channels, hidden_channels)\n",
    "        self.lin2 = Linear(hidden_channels, 1)\n",
    "        \n",
    "    def forward(self, z_dict, edge_label_index):\n",
    "        row, col = edge_label_index\n",
    "        # concat user and movie embeddings\n",
    "        z = torch.cat([z_dict['user'][row], z_dict['item'][col]], dim=-1)\n",
    "        # concatenated embeddings passed to linear layer\n",
    "        z = self.lin1(z).relu()\n",
    "        z = self.lin2(z)\n",
    "        return z.view(-1)\n",
    "class Model(torch.nn.Module):\n",
    "    def __init__(self, hidden_channels):\n",
    "        super().__init__()\n",
    "        self.encoder = GNNEncoder(hidden_channels, hidden_channels)\n",
    "        self.encoder = to_hetero(self.encoder, data.metadata(), aggr='sum')\n",
    "        self.decoder = EdgeDecoder(hidden_channels)\n",
    "\n",
    "    def forward(self, x_dict, edge_index_dict, edge_label_index):\n",
    "        # z_dict contains dictionary of movie and user embeddings returned from GraphSage\n",
    "        z_dict = self.encoder(x_dict, edge_index_dict)\n",
    "        return self.decoder(z_dict, edge_label_index)\n",
    "model = Model(hidden_channels=32).to(device)\n",
    "# Due to lazy initialization, we need to run one model step so the number\n",
    "# of parameters can be inferred:\n",
    "with torch.no_grad():\n",
    "    model.encoder(train_data.x_dict, train_data.edge_index_dict)\n",
    "\n",
    "optimizer = torch.optim.Adam(model.parameters(), lr=0.01)"
   ],
   "metadata": {
    "collapsed": false,
    "ExecuteTime": {
     "end_time": "2023-11-26T09:04:44.837426100Z",
     "start_time": "2023-11-26T09:04:43.397409500Z"
    }
   },
   "id": "1ad44484c84b9b28"
  },
  {
   "cell_type": "code",
   "execution_count": 183,
   "outputs": [],
   "source": [
    "from torch.nn import MSELoss\n",
    "\n",
    "loss_f = MSELoss()\n",
    "\n",
    "def train():\n",
    "    model.train()\n",
    "    optimizer.zero_grad()\n",
    "    pred = model(train_data.x_dict, train_data.edge_index_dict,\n",
    "                 train_data['user', 'rates', 'item'].edge_label_index)\n",
    "    target = train_data['user', 'rates', 'item'].edge_label\n",
    "    loss = weighted_mse_loss(pred, target)\n",
    "    loss.backward()\n",
    "    optimizer.step()\n",
    "    return float(loss)"
   ],
   "metadata": {
    "collapsed": false,
    "ExecuteTime": {
     "end_time": "2023-11-26T09:04:44.853812100Z",
     "start_time": "2023-11-26T09:04:44.839428600Z"
    }
   },
   "id": "6d258c1985d72b5b"
  },
  {
   "cell_type": "code",
   "execution_count": 184,
   "outputs": [],
   "source": [
    "@torch.no_grad()\n",
    "def test(data):\n",
    "    model.eval()\n",
    "    pred = model(data.x_dict, data.edge_index_dict,\n",
    "                 data['user', 'rates', 'item'].edge_label_index)\n",
    "    pred = pred.clamp(min=0, max=5)\n",
    "    target = data['user', 'rates', 'item'].edge_label.float()\n",
    "    rmse = F.mse_loss(pred, target)\n",
    "    return float(rmse)"
   ],
   "metadata": {
    "collapsed": false,
    "ExecuteTime": {
     "end_time": "2023-11-26T09:04:44.871920800Z",
     "start_time": "2023-11-26T09:04:44.854811400Z"
    }
   },
   "id": "d55867059c4f30f"
  },
  {
   "cell_type": "code",
   "execution_count": 191,
   "outputs": [
    {
     "name": "stdout",
     "output_type": "stream",
     "text": [
      "Epoch: 001, Loss: 94.9051, Train: 1.9971, Val: 2.0598, Test: 2.1067\n",
      "Epoch: 002, Loss: 93.8348, Train: 1.9925, Val: 2.0559, Test: 2.1018\n",
      "Epoch: 003, Loss: 92.7319, Train: 1.9900, Val: 2.0530, Test: 2.0988\n",
      "Epoch: 004, Loss: 91.6596, Train: 1.9870, Val: 2.0500, Test: 2.0957\n",
      "Epoch: 005, Loss: 90.6620, Train: 1.9823, Val: 2.0462, Test: 2.0907\n",
      "Epoch: 006, Loss: 89.7065, Train: 1.9814, Val: 2.0444, Test: 2.0895\n",
      "Epoch: 007, Loss: 88.7045, Train: 1.9766, Val: 2.0405, Test: 2.0845\n",
      "Epoch: 008, Loss: 87.6440, Train: 1.9744, Val: 2.0378, Test: 2.0818\n",
      "Epoch: 009, Loss: 86.6173, Train: 1.9716, Val: 2.0351, Test: 2.0789\n",
      "Epoch: 010, Loss: 85.6700, Train: 1.9672, Val: 2.0315, Test: 2.0744\n",
      "Epoch: 011, Loss: 84.7584, Train: 1.9663, Val: 2.0297, Test: 2.0729\n",
      "Epoch: 012, Loss: 83.8280, Train: 1.9615, Val: 2.0259, Test: 2.0681\n",
      "Epoch: 013, Loss: 82.8514, Train: 1.9597, Val: 2.0237, Test: 2.0660\n",
      "Epoch: 014, Loss: 81.8726, Train: 1.9568, Val: 2.0208, Test: 2.0627\n",
      "Epoch: 015, Loss: 80.9510, Train: 1.9528, Val: 2.0176, Test: 2.0587\n",
      "Epoch: 016, Loss: 80.0695, Train: 1.9512, Val: 2.0155, Test: 2.0569\n",
      "Epoch: 017, Loss: 79.1857, Train: 1.9473, Val: 2.0123, Test: 2.0528\n",
      "Epoch: 018, Loss: 78.2937, Train: 1.9456, Val: 2.0100, Test: 2.0508\n",
      "Epoch: 019, Loss: 77.3938, Train: 1.9422, Val: 2.0070, Test: 2.0471\n",
      "Epoch: 020, Loss: 76.5134, Train: 1.9390, Val: 2.0042, Test: 2.0439\n",
      "Epoch: 021, Loss: 75.6588, Train: 1.9368, Val: 2.0019, Test: 2.0413\n",
      "Epoch: 022, Loss: 74.8119, Train: 1.9342, Val: 1.9993, Test: 2.0383\n",
      "Epoch: 023, Loss: 73.9737, Train: 1.9311, Val: 1.9966, Test: 2.0353\n",
      "Epoch: 024, Loss: 73.1488, Train: 1.9287, Val: 1.9941, Test: 2.0325\n",
      "Epoch: 025, Loss: 72.3314, Train: 1.9252, Val: 1.9912, Test: 2.0291\n",
      "Epoch: 026, Loss: 71.5215, Train: 1.9233, Val: 1.9889, Test: 2.0266\n",
      "Epoch: 027, Loss: 70.7202, Train: 1.9208, Val: 1.9865, Test: 2.0240\n",
      "Epoch: 028, Loss: 69.9318, Train: 1.9176, Val: 1.9838, Test: 2.0206\n",
      "Epoch: 029, Loss: 69.1571, Train: 1.9154, Val: 1.9815, Test: 2.0184\n",
      "Epoch: 030, Loss: 68.3861, Train: 1.9121, Val: 1.9787, Test: 2.0147\n",
      "Epoch: 031, Loss: 67.6208, Train: 1.9102, Val: 1.9765, Test: 2.0124\n",
      "Epoch: 032, Loss: 66.8561, Train: 1.9076, Val: 1.9739, Test: 2.0096\n",
      "Epoch: 033, Loss: 66.1086, Train: 1.9045, Val: 1.9714, Test: 2.0065\n",
      "Epoch: 034, Loss: 65.3745, Train: 1.9024, Val: 1.9691, Test: 2.0042\n",
      "Epoch: 035, Loss: 64.6458, Train: 1.8991, Val: 1.9663, Test: 2.0007\n",
      "Epoch: 036, Loss: 63.9181, Train: 1.8965, Val: 1.9637, Test: 1.9980\n",
      "Epoch: 037, Loss: 63.2035, Train: 1.8947, Val: 1.9618, Test: 1.9959\n",
      "Epoch: 038, Loss: 62.5039, Train: 1.8917, Val: 1.9590, Test: 1.9926\n",
      "Epoch: 039, Loss: 61.8090, Train: 1.8897, Val: 1.9569, Test: 1.9903\n",
      "Epoch: 040, Loss: 61.1179, Train: 1.8864, Val: 1.9539, Test: 1.9867\n",
      "Epoch: 041, Loss: 60.4312, Train: 1.8843, Val: 1.9517, Test: 1.9843\n",
      "Epoch: 042, Loss: 59.7527, Train: 1.8821, Val: 1.9496, Test: 1.9819\n",
      "Epoch: 043, Loss: 59.0879, Train: 1.8791, Val: 1.9469, Test: 1.9788\n",
      "Epoch: 044, Loss: 58.4352, Train: 1.8776, Val: 1.9449, Test: 1.9768\n",
      "Epoch: 045, Loss: 57.7959, Train: 1.8736, Val: 1.9418, Test: 1.9726\n",
      "Epoch: 046, Loss: 57.1521, Train: 1.8727, Val: 1.9399, Test: 1.9714\n",
      "Epoch: 047, Loss: 56.5049, Train: 1.8693, Val: 1.9376, Test: 1.9680\n",
      "Epoch: 048, Loss: 55.8683, Train: 1.8672, Val: 1.9353, Test: 1.9656\n",
      "Epoch: 049, Loss: 55.2399, Train: 1.8645, Val: 1.9328, Test: 1.9626\n",
      "Epoch: 050, Loss: 54.6223, Train: 1.8615, Val: 1.9302, Test: 1.9594\n",
      "Epoch: 051, Loss: 54.0146, Train: 1.8604, Val: 1.9289, Test: 1.9578\n",
      "Epoch: 052, Loss: 53.4180, Train: 1.8571, Val: 1.9259, Test: 1.9545\n",
      "Epoch: 053, Loss: 52.8239, Train: 1.8557, Val: 1.9244, Test: 1.9523\n",
      "Epoch: 054, Loss: 52.2327, Train: 1.8521, Val: 1.9212, Test: 1.9488\n",
      "Epoch: 055, Loss: 51.6466, Train: 1.8502, Val: 1.9187, Test: 1.9468\n",
      "Epoch: 056, Loss: 51.0655, Train: 1.8480, Val: 1.9165, Test: 1.9442\n",
      "Epoch: 057, Loss: 50.4962, Train: 1.8453, Val: 1.9146, Test: 1.9412\n",
      "Epoch: 058, Loss: 49.9381, Train: 1.8440, Val: 1.9132, Test: 1.9394\n",
      "Epoch: 059, Loss: 49.3879, Train: 1.8401, Val: 1.9100, Test: 1.9357\n",
      "Epoch: 060, Loss: 48.8365, Train: 1.8393, Val: 1.9087, Test: 1.9342\n",
      "Epoch: 061, Loss: 48.2864, Train: 1.8362, Val: 1.9059, Test: 1.9312\n",
      "Epoch: 062, Loss: 47.7427, Train: 1.8339, Val: 1.9033, Test: 1.9289\n",
      "Epoch: 063, Loss: 47.2083, Train: 1.8323, Val: 1.9020, Test: 1.9265\n",
      "Epoch: 064, Loss: 46.6856, Train: 1.8288, Val: 1.8992, Test: 1.9232\n",
      "Epoch: 065, Loss: 46.1703, Train: 1.8281, Val: 1.8979, Test: 1.9219\n",
      "Epoch: 066, Loss: 45.6613, Train: 1.8246, Val: 1.8952, Test: 1.9185\n",
      "Epoch: 067, Loss: 45.1530, Train: 1.8237, Val: 1.8938, Test: 1.9171\n",
      "Epoch: 068, Loss: 44.6454, Train: 1.8200, Val: 1.8907, Test: 1.9137\n",
      "Epoch: 069, Loss: 44.1389, Train: 1.8181, Val: 1.8892, Test: 1.9115\n",
      "Epoch: 070, Loss: 43.6437, Train: 1.8169, Val: 1.8873, Test: 1.9095\n",
      "Epoch: 071, Loss: 43.1584, Train: 1.8138, Val: 1.8847, Test: 1.9069\n",
      "Epoch: 072, Loss: 42.6842, Train: 1.8128, Val: 1.8833, Test: 1.9052\n",
      "Epoch: 073, Loss: 42.2085, Train: 1.8091, Val: 1.8800, Test: 1.9016\n",
      "Epoch: 074, Loss: 41.7317, Train: 1.8075, Val: 1.8789, Test: 1.8997\n",
      "Epoch: 075, Loss: 41.2631, Train: 1.8054, Val: 1.8771, Test: 1.8977\n",
      "Epoch: 076, Loss: 40.8018, Train: 1.8032, Val: 1.8751, Test: 1.8953\n",
      "Epoch: 077, Loss: 40.3496, Train: 1.8019, Val: 1.8731, Test: 1.8931\n",
      "Epoch: 078, Loss: 39.8994, Train: 1.7986, Val: 1.8708, Test: 1.8902\n",
      "Epoch: 079, Loss: 39.4533, Train: 1.7972, Val: 1.8689, Test: 1.8882\n",
      "Epoch: 080, Loss: 39.0129, Train: 1.7945, Val: 1.8669, Test: 1.8860\n",
      "Epoch: 081, Loss: 38.5787, Train: 1.7930, Val: 1.8651, Test: 1.8841\n",
      "Epoch: 082, Loss: 38.1471, Train: 1.7903, Val: 1.8630, Test: 1.8815\n",
      "Epoch: 083, Loss: 37.7230, Train: 1.7879, Val: 1.8609, Test: 1.8788\n",
      "Epoch: 084, Loss: 37.3020, Train: 1.7859, Val: 1.8590, Test: 1.8767\n",
      "Epoch: 085, Loss: 36.8855, Train: 1.7842, Val: 1.8572, Test: 1.8750\n",
      "Epoch: 086, Loss: 36.4749, Train: 1.7828, Val: 1.8552, Test: 1.8728\n",
      "Epoch: 087, Loss: 36.0687, Train: 1.7798, Val: 1.8530, Test: 1.8698\n",
      "Epoch: 088, Loss: 35.6676, Train: 1.7780, Val: 1.8510, Test: 1.8675\n",
      "Epoch: 089, Loss: 35.2691, Train: 1.7759, Val: 1.8492, Test: 1.8656\n",
      "Epoch: 090, Loss: 34.8766, Train: 1.7748, Val: 1.8473, Test: 1.8640\n",
      "Epoch: 091, Loss: 34.4887, Train: 1.7717, Val: 1.8452, Test: 1.8609\n",
      "Epoch: 092, Loss: 34.1040, Train: 1.7696, Val: 1.8432, Test: 1.8584\n",
      "Epoch: 093, Loss: 33.7241, Train: 1.7683, Val: 1.8413, Test: 1.8564\n",
      "Epoch: 094, Loss: 33.3494, Train: 1.7658, Val: 1.8395, Test: 1.8542\n",
      "Epoch: 095, Loss: 32.9761, Train: 1.7639, Val: 1.8376, Test: 1.8523\n",
      "Epoch: 096, Loss: 32.6096, Train: 1.7630, Val: 1.8357, Test: 1.8503\n",
      "Epoch: 097, Loss: 32.2519, Train: 1.7592, Val: 1.8326, Test: 1.8467\n",
      "Epoch: 098, Loss: 31.9026, Train: 1.7592, Val: 1.8319, Test: 1.8462\n",
      "Epoch: 099, Loss: 31.5587, Train: 1.7554, Val: 1.8293, Test: 1.8423\n",
      "Epoch: 100, Loss: 31.2132, Train: 1.7553, Val: 1.8282, Test: 1.8420\n",
      "Epoch: 101, Loss: 30.8658, Train: 1.7514, Val: 1.8253, Test: 1.8381\n",
      "Epoch: 102, Loss: 30.5128, Train: 1.7513, Val: 1.8245, Test: 1.8374\n",
      "Epoch: 103, Loss: 30.1637, Train: 1.7480, Val: 1.8224, Test: 1.8344\n",
      "Epoch: 104, Loss: 29.8226, Train: 1.7467, Val: 1.8208, Test: 1.8328\n",
      "Epoch: 105, Loss: 29.4866, Train: 1.7451, Val: 1.8188, Test: 1.8306\n",
      "Epoch: 106, Loss: 29.1632, Train: 1.7416, Val: 1.8166, Test: 1.8271\n",
      "Epoch: 107, Loss: 28.8456, Train: 1.7417, Val: 1.8153, Test: 1.8267\n",
      "Epoch: 108, Loss: 28.5281, Train: 1.7384, Val: 1.8131, Test: 1.8239\n",
      "Epoch: 109, Loss: 28.2110, Train: 1.7382, Val: 1.8118, Test: 1.8229\n",
      "Epoch: 110, Loss: 27.8983, Train: 1.7343, Val: 1.8096, Test: 1.8190\n",
      "Epoch: 111, Loss: 27.5844, Train: 1.7334, Val: 1.8078, Test: 1.8175\n",
      "Epoch: 112, Loss: 27.2732, Train: 1.7309, Val: 1.8061, Test: 1.8152\n",
      "Epoch: 113, Loss: 26.9666, Train: 1.7291, Val: 1.8044, Test: 1.8134\n",
      "Epoch: 114, Loss: 26.6726, Train: 1.7289, Val: 1.8028, Test: 1.8127\n",
      "Epoch: 115, Loss: 26.3966, Train: 1.7243, Val: 1.8000, Test: 1.8079\n",
      "Epoch: 116, Loss: 26.1361, Train: 1.7252, Val: 1.7990, Test: 1.8086\n",
      "Epoch: 117, Loss: 25.8745, Train: 1.7202, Val: 1.7964, Test: 1.8031\n",
      "Epoch: 118, Loss: 25.5980, Train: 1.7220, Val: 1.7957, Test: 1.8051\n",
      "Epoch: 119, Loss: 25.3148, Train: 1.7172, Val: 1.7932, Test: 1.7996\n",
      "Epoch: 120, Loss: 25.0306, Train: 1.7181, Val: 1.7922, Test: 1.8007\n",
      "Epoch: 121, Loss: 24.7416, Train: 1.7131, Val: 1.7896, Test: 1.7948\n",
      "Epoch: 122, Loss: 24.4560, Train: 1.7141, Val: 1.7887, Test: 1.7962\n",
      "Epoch: 123, Loss: 24.1745, Train: 1.7099, Val: 1.7863, Test: 1.7916\n",
      "Epoch: 124, Loss: 23.8990, Train: 1.7104, Val: 1.7852, Test: 1.7919\n",
      "Epoch: 125, Loss: 23.6244, Train: 1.7061, Val: 1.7824, Test: 1.7875\n",
      "Epoch: 126, Loss: 23.3519, Train: 1.7065, Val: 1.7819, Test: 1.7874\n",
      "Epoch: 127, Loss: 23.0828, Train: 1.7034, Val: 1.7802, Test: 1.7844\n",
      "Epoch: 128, Loss: 22.8216, Train: 1.7022, Val: 1.7784, Test: 1.7829\n",
      "Epoch: 129, Loss: 22.5666, Train: 1.7001, Val: 1.7768, Test: 1.7806\n",
      "Epoch: 130, Loss: 22.3173, Train: 1.6978, Val: 1.7751, Test: 1.7782\n",
      "Epoch: 131, Loss: 22.0731, Train: 1.6975, Val: 1.7737, Test: 1.7775\n",
      "Epoch: 132, Loss: 21.8305, Train: 1.6943, Val: 1.7719, Test: 1.7747\n",
      "Epoch: 133, Loss: 21.5878, Train: 1.6929, Val: 1.7702, Test: 1.7727\n",
      "Epoch: 134, Loss: 21.3482, Train: 1.6913, Val: 1.7685, Test: 1.7708\n",
      "Epoch: 135, Loss: 21.1142, Train: 1.6892, Val: 1.7669, Test: 1.7690\n",
      "Epoch: 136, Loss: 20.8824, Train: 1.6884, Val: 1.7654, Test: 1.7672\n",
      "Epoch: 137, Loss: 20.6539, Train: 1.6854, Val: 1.7635, Test: 1.7645\n",
      "Epoch: 138, Loss: 20.4282, Train: 1.6850, Val: 1.7621, Test: 1.7636\n",
      "Epoch: 139, Loss: 20.2083, Train: 1.6819, Val: 1.7602, Test: 1.7604\n",
      "Epoch: 140, Loss: 19.9903, Train: 1.6821, Val: 1.7590, Test: 1.7601\n",
      "Epoch: 141, Loss: 19.7727, Train: 1.6784, Val: 1.7570, Test: 1.7565\n",
      "Epoch: 142, Loss: 19.5558, Train: 1.6785, Val: 1.7557, Test: 1.7561\n",
      "Epoch: 143, Loss: 19.3453, Train: 1.6747, Val: 1.7528, Test: 1.7522\n",
      "Epoch: 144, Loss: 19.1390, Train: 1.6756, Val: 1.7527, Test: 1.7526\n",
      "Epoch: 145, Loss: 18.9322, Train: 1.6713, Val: 1.7496, Test: 1.7484\n",
      "Epoch: 146, Loss: 18.7238, Train: 1.6719, Val: 1.7493, Test: 1.7483\n",
      "Epoch: 147, Loss: 18.5148, Train: 1.6680, Val: 1.7464, Test: 1.7444\n",
      "Epoch: 148, Loss: 18.3113, Train: 1.6687, Val: 1.7463, Test: 1.7448\n",
      "Epoch: 149, Loss: 18.1072, Train: 1.6651, Val: 1.7443, Test: 1.7409\n",
      "Epoch: 150, Loss: 17.9014, Train: 1.6647, Val: 1.7430, Test: 1.7402\n",
      "Epoch: 151, Loss: 17.7014, Train: 1.6620, Val: 1.7414, Test: 1.7374\n",
      "Epoch: 152, Loss: 17.5058, Train: 1.6612, Val: 1.7400, Test: 1.7361\n",
      "Epoch: 153, Loss: 17.3132, Train: 1.6591, Val: 1.7384, Test: 1.7340\n",
      "Epoch: 154, Loss: 17.1246, Train: 1.6573, Val: 1.7367, Test: 1.7315\n",
      "Epoch: 155, Loss: 16.9374, Train: 1.6555, Val: 1.7352, Test: 1.7297\n",
      "Epoch: 156, Loss: 16.7536, Train: 1.6552, Val: 1.7340, Test: 1.7288\n",
      "Epoch: 157, Loss: 16.5751, Train: 1.6521, Val: 1.7320, Test: 1.7253\n",
      "Epoch: 158, Loss: 16.4002, Train: 1.6523, Val: 1.7309, Test: 1.7248\n",
      "Epoch: 159, Loss: 16.2267, Train: 1.6487, Val: 1.7284, Test: 1.7205\n",
      "Epoch: 160, Loss: 16.0569, Train: 1.6496, Val: 1.7283, Test: 1.7215\n",
      "Epoch: 161, Loss: 15.8834, Train: 1.6455, Val: 1.7260, Test: 1.7167\n",
      "Epoch: 162, Loss: 15.7052, Train: 1.6456, Val: 1.7250, Test: 1.7166\n",
      "Epoch: 163, Loss: 15.5267, Train: 1.6430, Val: 1.7232, Test: 1.7136\n",
      "Epoch: 164, Loss: 15.3531, Train: 1.6415, Val: 1.7217, Test: 1.7119\n",
      "Epoch: 165, Loss: 15.1871, Train: 1.6412, Val: 1.7205, Test: 1.7109\n",
      "Epoch: 166, Loss: 15.0299, Train: 1.6375, Val: 1.7166, Test: 1.7066\n",
      "Epoch: 167, Loss: 14.8794, Train: 1.6386, Val: 1.7173, Test: 1.7077\n",
      "Epoch: 168, Loss: 14.7410, Train: 1.6341, Val: 1.7132, Test: 1.7017\n",
      "Epoch: 169, Loss: 14.6221, Train: 1.6369, Val: 1.7154, Test: 1.7065\n",
      "Epoch: 170, Loss: 14.5336, Train: 1.6302, Val: 1.7091, Test: 1.6965\n",
      "Epoch: 171, Loss: 14.5070, Train: 1.6351, Val: 1.7132, Test: 1.7049\n",
      "Epoch: 172, Loss: 14.6065, Train: 1.6242, Val: 1.7026, Test: 1.6872\n",
      "Epoch: 173, Loss: 14.9477, Train: 1.6358, Val: 1.7129, Test: 1.7079\n",
      "Epoch: 174, Loss: 15.7152, Train: 1.6183, Val: 1.6963, Test: 1.6772\n",
      "Epoch: 175, Loss: 17.3150, Train: 1.6400, Val: 1.7144, Test: 1.7152\n",
      "Epoch: 176, Loss: 20.5179, Train: 1.6089, Val: 1.6836, Test: 1.6527\n",
      "Epoch: 177, Loss: 26.6801, Train: 1.6515, Val: 1.7188, Test: 1.7312\n",
      "Epoch: 178, Loss: 38.5897, Train: 1.6032, Val: 1.6634, Test: 1.6226\n",
      "Epoch: 179, Loss: 61.9227, Train: 1.6816, Val: 1.7350, Test: 1.7717\n",
      "Epoch: 180, Loss: 108.0210, Train: 1.6241, Val: 1.6660, Test: 1.6170\n",
      "Epoch: 181, Loss: 200.2367, Train: 1.7427, Val: 1.7771, Test: 1.8475\n",
      "Epoch: 182, Loss: 385.3376, Train: 1.6945, Val: 1.7621, Test: 1.6883\n",
      "Epoch: 183, Loss: 757.3342, Train: 1.9273, Val: 1.9619, Test: 2.0692\n",
      "Epoch: 184, Loss: 1511.2985, Train: 1.8713, Val: 1.9544, Test: 1.8678\n",
      "Epoch: 185, Loss: 3053.3601, Train: 2.7133, Val: 2.7411, Test: 2.8987\n",
      "Epoch: 186, Loss: 6225.2876, Train: 2.2447, Val: 2.3439, Test: 2.2755\n",
      "Epoch: 187, Loss: 12810.3242, Train: 5.1502, Val: 5.1336, Test: 5.4039\n",
      "Epoch: 188, Loss: 26540.4785, Train: 2.6317, Val: 2.7459, Test: 2.7694\n",
      "Epoch: 189, Loss: 55455.1289, Train: 8.7376, Val: 8.6661, Test: 9.2550\n",
      "Epoch: 190, Loss: 116488.2422, Train: 2.7897, Val: 2.9099, Test: 2.9405\n",
      "Epoch: 191, Loss: 247055.6562, Train: 10.2547, Val: 10.1479, Test: 10.9767\n",
      "Epoch: 192, Loss: 525340.0625, Train: 2.7930, Val: 2.9141, Test: 2.9456\n",
      "Epoch: 193, Loss: 1129725.8750, Train: 10.5639, Val: 10.4356, Test: 11.3500\n",
      "Epoch: 194, Loss: 2419783.5000, Train: 2.8027, Val: 2.9252, Test: 2.9555\n",
      "Epoch: 195, Loss: 5251055.0000, Train: 10.8961, Val: 10.7307, Test: 11.7168\n",
      "Epoch: 196, Loss: 11134687.0000, Train: 2.8436, Val: 2.9692, Test: 2.9907\n",
      "Epoch: 197, Loss: 23751088.0000, Train: 11.1080, Val: 10.9385, Test: 11.9252\n",
      "Epoch: 198, Loss: 46432256.0000, Train: 2.9425, Val: 3.0724, Test: 3.0693\n",
      "Epoch: 199, Loss: 85727168.0000, Train: 11.6985, Val: 11.5094, Test: 12.3222\n",
      "Epoch: 200, Loss: 116631976.0000, Train: 2.7971, Val: 2.9188, Test: 2.9500\n",
      "Epoch: 201, Loss: 110411272.0000, Train: 12.3630, Val: 12.2045, Test: 12.5933\n",
      "Epoch: 202, Loss: 34405788.0000, Train: 5.6472, Val: 5.7206, Test: 4.9920\n",
      "Epoch: 203, Loss: 1903513.5000, Train: 5.5391, Val: 5.6322, Test: 4.8360\n",
      "Epoch: 204, Loss: 43360684.0000, Train: 13.7459, Val: 13.5461, Test: 13.7543\n",
      "Epoch: 205, Loss: 28012580.0000, Train: 13.0757, Val: 12.9367, Test: 13.0283\n",
      "Epoch: 206, Loss: 975353.0000, Train: 5.5391, Val: 5.6322, Test: 4.8360\n",
      "Epoch: 207, Loss: 27789882.0000, Train: 13.7456, Val: 13.5462, Test: 13.7530\n",
      "Epoch: 208, Loss: 5992460.5000, Train: 13.7459, Val: 13.5462, Test: 13.7545\n",
      "Epoch: 209, Loss: 10560043.0000, Train: 5.5391, Val: 5.6322, Test: 4.8360\n",
      "Epoch: 210, Loss: 12930912.0000, Train: 5.5362, Val: 5.6293, Test: 4.8329\n",
      "Epoch: 211, Loss: 2362723.0000, Train: 13.7456, Val: 13.5462, Test: 13.7530\n",
      "Epoch: 212, Loss: 12854147.0000, Train: 5.3412, Val: 5.3276, Test: 4.7217\n",
      "Epoch: 213, Loss: 274094.6875, Train: 5.5391, Val: 5.6322, Test: 4.8360\n",
      "Epoch: 214, Loss: 10235502.0000, Train: 13.2506, Val: 13.0751, Test: 13.2380\n",
      "Epoch: 215, Loss: 30911.0078, Train: 13.7457, Val: 13.5462, Test: 13.7530\n",
      "Epoch: 216, Loss: 7994972.5000, Train: 13.3292, Val: 13.1676, Test: 13.3202\n",
      "Epoch: 217, Loss: 20319.8047, Train: 5.5391, Val: 5.6322, Test: 4.8360\n",
      "Epoch: 218, Loss: 6120992.5000, Train: 4.2630, Val: 4.3306, Test: 3.4629\n",
      "Epoch: 219, Loss: 112653.5156, Train: 13.6982, Val: 13.5070, Test: 13.7169\n",
      "Epoch: 220, Loss: 4635320.5000, Train: 11.3732, Val: 11.2801, Test: 11.0868\n",
      "Epoch: 221, Loss: 371460.9688, Train: 5.5391, Val: 5.6322, Test: 4.8360\n",
      "Epoch: 222, Loss: 3214478.0000, Train: 5.5391, Val: 5.6322, Test: 4.8360\n",
      "Epoch: 223, Loss: 839717.9375, Train: 12.6207, Val: 12.4761, Test: 12.5817\n",
      "Epoch: 224, Loss: 1908987.2500, Train: 12.5839, Val: 12.4373, Test: 12.5451\n",
      "Epoch: 225, Loss: 1348915.7500, Train: 5.1668, Val: 5.2638, Test: 4.5706\n",
      "Epoch: 226, Loss: 834685.5625, Train: 4.4996, Val: 4.5985, Test: 4.1036\n",
      "Epoch: 227, Loss: 1689716.1250, Train: 9.6238, Val: 9.5779, Test: 9.5692\n",
      "Epoch: 228, Loss: 171331.3750, Train: 10.8046, Val: 10.6771, Test: 11.2509\n",
      "Epoch: 229, Loss: 1673084.3750, Train: 3.4566, Val: 3.5788, Test: 3.4879\n",
      "Epoch: 230, Loss: 8530.2070, Train: 3.0100, Val: 3.1202, Test: 3.0764\n",
      "Epoch: 231, Loss: 1278505.7500, Train: 2.9729, Val: 3.1217, Test: 3.1165\n",
      "Epoch: 232, Loss: 223887.2031, Train: 7.6731, Val: 7.6546, Test: 7.7863\n",
      "Epoch: 233, Loss: 703482.6875, Train: 7.5557, Val: 7.5360, Test: 7.6752\n",
      "Epoch: 234, Loss: 546056.8750, Train: 2.8277, Val: 2.9722, Test: 3.0274\n",
      "Epoch: 235, Loss: 218630.7344, Train: 2.7932, Val: 2.9124, Test: 2.9424\n",
      "Epoch: 236, Loss: 714001.3750, Train: 3.9799, Val: 4.0893, Test: 4.0560\n",
      "Epoch: 237, Loss: 8972.2520, Train: 8.0809, Val: 8.0642, Test: 8.4574\n",
      "Epoch: 238, Loss: 623023.9375, Train: 5.2692, Val: 5.2886, Test: 5.3508\n",
      "Epoch: 239, Loss: 68878.4844, Train: 2.8148, Val: 2.9800, Test: 3.0123\n",
      "Epoch: 240, Loss: 361394.2812, Train: 2.8361, Val: 2.9984, Test: 3.0401\n",
      "Epoch: 241, Loss: 237066.4375, Train: 4.0777, Val: 4.1715, Test: 4.1737\n",
      "Epoch: 242, Loss: 112103.7188, Train: 5.6033, Val: 5.6072, Test: 5.6910\n",
      "Epoch: 243, Loss: 335530.4688, Train: 2.8081, Val: 2.9681, Test: 2.9666\n",
      "Epoch: 244, Loss: 4803.4253, Train: 2.7975, Val: 2.9584, Test: 2.9800\n",
      "Epoch: 245, Loss: 292873.1875, Train: 2.8066, Val: 2.9503, Test: 2.9907\n",
      "Epoch: 246, Loss: 39870.3594, Train: 6.7420, Val: 6.7131, Test: 6.8758\n",
      "Epoch: 247, Loss: 161626.9531, Train: 6.1716, Val: 6.1605, Test: 6.3259\n",
      "Epoch: 248, Loss: 124957.0781, Train: 2.7323, Val: 2.8674, Test: 2.9342\n",
      "Epoch: 249, Loss: 43521.3633, Train: 2.8089, Val: 2.9719, Test: 2.9860\n",
      "Epoch: 250, Loss: 166599.4531, Train: 2.7626, Val: 2.9039, Test: 2.9081\n",
      "Epoch: 251, Loss: 1896.0662, Train: 5.2223, Val: 5.2292, Test: 5.2670\n",
      "Epoch: 252, Loss: 135694.8750, Train: 3.6845, Val: 3.7435, Test: 3.7081\n",
      "Epoch: 253, Loss: 27975.3145, Train: 2.9415, Val: 3.0699, Test: 3.1295\n",
      "Epoch: 254, Loss: 67483.4531, Train: 2.9551, Val: 3.0905, Test: 3.1196\n",
      "Epoch: 255, Loss: 69702.1562, Train: 3.7358, Val: 3.7947, Test: 3.7120\n",
      "Epoch: 256, Loss: 14424.3564, Train: 5.8162, Val: 5.8053, Test: 5.8164\n",
      "Epoch: 257, Loss: 83214.1016, Train: 3.2439, Val: 3.3260, Test: 3.2811\n",
      "Epoch: 258, Loss: 2097.8459, Train: 3.0662, Val: 3.1888, Test: 3.1904\n",
      "Epoch: 259, Loss: 61616.4062, Train: 2.8297, Val: 2.9379, Test: 2.9169\n",
      "Epoch: 260, Loss: 19265.9512, Train: 4.0003, Val: 4.0335, Test: 3.9128\n",
      "Epoch: 261, Loss: 27088.0820, Train: 3.9821, Val: 4.0132, Test: 3.8915\n",
      "Epoch: 262, Loss: 38362.6875, Train: 2.9331, Val: 3.0352, Test: 2.9921\n",
      "Epoch: 263, Loss: 4543.3760, Train: 3.1606, Val: 3.3001, Test: 3.2595\n",
      "Epoch: 264, Loss: 40965.6484, Train: 2.4793, Val: 2.5966, Test: 2.4789\n",
      "Epoch: 265, Loss: 2421.4875, Train: 4.9374, Val: 4.9481, Test: 4.8930\n",
      "Epoch: 266, Loss: 27655.1426, Train: 4.2509, Val: 4.2748, Test: 4.1625\n",
      "Epoch: 267, Loss: 12249.1387, Train: 2.4509, Val: 2.5516, Test: 2.4561\n",
      "Epoch: 268, Loss: 10845.8457, Train: 3.1498, Val: 3.2630, Test: 3.2086\n",
      "Epoch: 269, Loss: 20494.0547, Train: 2.3780, Val: 2.4800, Test: 2.3255\n",
      "Epoch: 270, Loss: 1602.7197, Train: 3.5468, Val: 3.5822, Test: 3.5145\n",
      "Epoch: 271, Loss: 19930.4414, Train: 2.3220, Val: 2.4202, Test: 2.2765\n",
      "Epoch: 272, Loss: 2128.1794, Train: 3.0540, Val: 3.1537, Test: 3.0875\n",
      "Epoch: 273, Loss: 12476.0059, Train: 2.5093, Val: 2.6048, Test: 2.5075\n",
      "Epoch: 274, Loss: 7260.7544, Train: 2.6562, Val: 2.7284, Test: 2.6344\n",
      "Epoch: 275, Loss: 4518.1465, Train: 3.2567, Val: 3.3026, Test: 3.2726\n",
      "Epoch: 276, Loss: 10670.7422, Train: 1.9881, Val: 2.0847, Test: 1.9891\n",
      "Epoch: 277, Loss: 779.6187, Train: 2.2934, Val: 2.3893, Test: 2.3001\n",
      "Epoch: 278, Loss: 9682.2012, Train: 1.8735, Val: 1.9666, Test: 1.8870\n",
      "Epoch: 279, Loss: 1559.8998, Train: 2.6902, Val: 2.7514, Test: 2.7109\n",
      "Epoch: 280, Loss: 5775.6982, Train: 2.2847, Val: 2.3645, Test: 2.2933\n",
      "Epoch: 281, Loss: 4083.3218, Train: 2.0196, Val: 2.1133, Test: 2.0471\n",
      "Epoch: 282, Loss: 2056.7241, Train: 2.5074, Val: 2.6095, Test: 2.5334\n",
      "Epoch: 283, Loss: 5482.6206, Train: 1.7598, Val: 1.8471, Test: 1.7976\n",
      "Epoch: 284, Loss: 508.5986, Train: 2.4334, Val: 2.5042, Test: 2.4721\n",
      "Epoch: 285, Loss: 4765.4883, Train: 2.0109, Val: 2.0999, Test: 2.0487\n",
      "Epoch: 286, Loss: 1028.4608, Train: 1.7157, Val: 1.8073, Test: 1.7668\n",
      "Epoch: 287, Loss: 2805.5559, Train: 1.7090, Val: 1.8011, Test: 1.7637\n",
      "Epoch: 288, Loss: 2228.7986, Train: 1.8015, Val: 1.8867, Test: 1.8610\n",
      "Epoch: 289, Loss: 1060.6785, Train: 1.9400, Val: 2.0248, Test: 1.9998\n",
      "Epoch: 290, Loss: 2815.7700, Train: 1.6234, Val: 1.7105, Test: 1.6821\n",
      "Epoch: 291, Loss: 378.1469, Train: 1.8517, Val: 1.9425, Test: 1.9040\n",
      "Epoch: 292, Loss: 2409.6387, Train: 1.6112, Val: 1.6988, Test: 1.6748\n",
      "Epoch: 293, Loss: 647.1882, Train: 1.7789, Val: 1.8613, Test: 1.8521\n",
      "Epoch: 294, Loss: 1454.4750, Train: 1.7437, Val: 1.8275, Test: 1.8174\n",
      "Epoch: 295, Loss: 1205.4287, Train: 1.5591, Val: 1.6469, Test: 1.6280\n",
      "Epoch: 296, Loss: 622.2642, Train: 1.6063, Val: 1.6937, Test: 1.6747\n",
      "Epoch: 297, Loss: 1467.2056, Train: 1.5622, Val: 1.6436, Test: 1.6351\n",
      "Epoch: 298, Loss: 293.2293, Train: 1.7342, Val: 1.8129, Test: 1.8173\n",
      "Epoch: 299, Loss: 1266.3347, Train: 1.5580, Val: 1.6354, Test: 1.6369\n",
      "Epoch: 300, Loss: 409.0384, Train: 1.5913, Val: 1.6781, Test: 1.6539\n",
      "Epoch: 301, Loss: 810.0611, Train: 1.5820, Val: 1.6681, Test: 1.6447\n",
      "Epoch: 302, Loss: 664.7448, Train: 1.5125, Val: 1.5887, Test: 1.5919\n",
      "Epoch: 303, Loss: 406.3160, Train: 1.5784, Val: 1.6541, Test: 1.6639\n",
      "Epoch: 304, Loss: 789.6816, Train: 1.4860, Val: 1.5649, Test: 1.5621\n",
      "Epoch: 305, Loss: 232.6524, Train: 1.4947, Val: 1.5773, Test: 1.5640\n",
      "Epoch: 306, Loss: 701.3358, Train: 1.4682, Val: 1.5474, Test: 1.5465\n",
      "Epoch: 307, Loss: 269.7195, Train: 1.5235, Val: 1.5958, Test: 1.6102\n",
      "Epoch: 308, Loss: 486.9674, Train: 1.4869, Val: 1.5577, Test: 1.5716\n",
      "Epoch: 309, Loss: 382.9965, Train: 1.4775, Val: 1.5573, Test: 1.5461\n",
      "Epoch: 310, Loss: 286.7737, Train: 1.5051, Val: 1.5827, Test: 1.5656\n",
      "Epoch: 311, Loss: 445.6619, Train: 1.4540, Val: 1.5271, Test: 1.5308\n",
      "Epoch: 312, Loss: 188.2619, Train: 1.4842, Val: 1.5539, Test: 1.5709\n",
      "Epoch: 313, Loss: 411.5768, Train: 1.4510, Val: 1.5223, Test: 1.5313\n",
      "Epoch: 314, Loss: 190.8414, Train: 1.4621, Val: 1.5367, Test: 1.5298\n",
      "Epoch: 315, Loss: 313.5885, Train: 1.4499, Val: 1.5245, Test: 1.5212\n",
      "Epoch: 316, Loss: 237.2552, Train: 1.4528, Val: 1.5202, Test: 1.5381\n",
      "Epoch: 317, Loss: 213.0551, Train: 1.4599, Val: 1.5256, Test: 1.5490\n",
      "Epoch: 318, Loss: 268.4494, Train: 1.4440, Val: 1.5131, Test: 1.5183\n",
      "Epoch: 319, Loss: 154.8562, Train: 1.4714, Val: 1.5419, Test: 1.5353\n",
      "Epoch: 320, Loss: 257.5992, Train: 1.4490, Val: 1.5167, Test: 1.5206\n",
      "Epoch: 321, Loss: 144.9416, Train: 1.4443, Val: 1.5082, Test: 1.5274\n",
      "Epoch: 322, Loss: 213.6174, Train: 1.4422, Val: 1.5078, Test: 1.5212\n",
      "Epoch: 323, Loss: 161.0131, Train: 1.4503, Val: 1.5179, Test: 1.5214\n",
      "Epoch: 324, Loss: 163.2811, Train: 1.4508, Val: 1.5179, Test: 1.5218\n",
      "Epoch: 325, Loss: 175.6532, Train: 1.4427, Val: 1.5072, Test: 1.5220\n",
      "Epoch: 326, Loss: 128.8706, Train: 1.4462, Val: 1.5075, Test: 1.5312\n",
      "Epoch: 327, Loss: 172.8806, Train: 1.4463, Val: 1.5096, Test: 1.5214\n",
      "Epoch: 328, Loss: 116.5163, Train: 1.4675, Val: 1.5335, Test: 1.5342\n",
      "Epoch: 329, Loss: 153.6325, Train: 1.4588, Val: 1.5232, Test: 1.5288\n",
      "Epoch: 330, Loss: 119.0722, Train: 1.4476, Val: 1.5078, Test: 1.5252\n",
      "Epoch: 331, Loss: 128.4402, Train: 1.4480, Val: 1.5077, Test: 1.5264\n",
      "Epoch: 332, Loss: 124.3626, Train: 1.4560, Val: 1.5187, Test: 1.5285\n",
      "Epoch: 333, Loss: 107.9619, Train: 1.4621, Val: 1.5265, Test: 1.5328\n",
      "Epoch: 334, Loss: 123.8713, Train: 1.4520, Val: 1.5133, Test: 1.5280\n",
      "Epoch: 335, Loss: 97.1726, Train: 1.4500, Val: 1.5094, Test: 1.5292\n",
      "Epoch: 336, Loss: 115.4494, Train: 1.4536, Val: 1.5136, Test: 1.5297\n",
      "Epoch: 337, Loss: 94.4779, Train: 1.4653, Val: 1.5286, Test: 1.5368\n",
      "Epoch: 338, Loss: 102.8633, Train: 1.4656, Val: 1.5285, Test: 1.5375\n",
      "Epoch: 339, Loss: 94.9755, Train: 1.4579, Val: 1.5172, Test: 1.5333\n",
      "Epoch: 340, Loss: 90.8659, Train: 1.4574, Val: 1.5161, Test: 1.5336\n",
      "Epoch: 341, Loss: 94.2882, Train: 1.4639, Val: 1.5260, Test: 1.5377\n",
      "Epoch: 342, Loss: 82.6747, Train: 1.4690, Val: 1.5323, Test: 1.5413\n",
      "Epoch: 343, Loss: 90.3484, Train: 1.4619, Val: 1.5230, Test: 1.5374\n",
      "Epoch: 344, Loss: 78.5555, Train: 1.4585, Val: 1.5165, Test: 1.5363\n",
      "Epoch: 345, Loss: 83.9633, Train: 1.4614, Val: 1.5206, Test: 1.5383\n",
      "Epoch: 346, Loss: 76.8300, Train: 1.4704, Val: 1.5329, Test: 1.5436\n",
      "Epoch: 347, Loss: 76.9081, Train: 1.4730, Val: 1.5358, Test: 1.5455\n",
      "Epoch: 348, Loss: 75.4671, Train: 1.4670, Val: 1.5275, Test: 1.5425\n",
      "Epoch: 349, Loss: 71.0712, Train: 1.4655, Val: 1.5242, Test: 1.5421\n",
      "Epoch: 350, Loss: 73.0916, Train: 1.4693, Val: 1.5309, Test: 1.5447\n",
      "Epoch: 351, Loss: 67.1178, Train: 1.4739, Val: 1.5365, Test: 1.5475\n",
      "Epoch: 352, Loss: 69.5940, Train: 1.4707, Val: 1.5326, Test: 1.5461\n",
      "Epoch: 353, Loss: 64.6914, Train: 1.4673, Val: 1.5270, Test: 1.5446\n",
      "Epoch: 354, Loss: 65.4023, Train: 1.4690, Val: 1.5294, Test: 1.5458\n",
      "Epoch: 355, Loss: 62.9365, Train: 1.4747, Val: 1.5368, Test: 1.5493\n",
      "Epoch: 356, Loss: 61.4617, Train: 1.4768, Val: 1.5390, Test: 1.5507\n",
      "Epoch: 357, Loss: 61.0161, Train: 1.4735, Val: 1.5346, Test: 1.5493\n",
      "Epoch: 358, Loss: 58.1976, Train: 1.4728, Val: 1.5326, Test: 1.5491\n",
      "Epoch: 359, Loss: 58.7523, Train: 1.4757, Val: 1.5374, Test: 1.5510\n",
      "Epoch: 360, Loss: 55.7490, Train: 1.4791, Val: 1.5415, Test: 1.5530\n",
      "Epoch: 361, Loss: 56.0903, Train: 1.4772, Val: 1.5391, Test: 1.5524\n",
      "Epoch: 362, Loss: 53.8590, Train: 1.4744, Val: 1.5347, Test: 1.5511\n",
      "Epoch: 363, Loss: 53.3624, Train: 1.4752, Val: 1.5355, Test: 1.5517\n",
      "Epoch: 364, Loss: 52.1609, Train: 1.4787, Val: 1.5406, Test: 1.5540\n",
      "Epoch: 365, Loss: 50.8716, Train: 1.4806, Val: 1.5430, Test: 1.5553\n",
      "Epoch: 366, Loss: 50.4129, Train: 1.4790, Val: 1.5407, Test: 1.5546\n",
      "Epoch: 367, Loss: 48.7426, Train: 1.4784, Val: 1.5392, Test: 1.5544\n",
      "Epoch: 368, Loss: 48.5276, Train: 1.4799, Val: 1.5415, Test: 1.5555\n",
      "Epoch: 369, Loss: 46.9405, Train: 1.4817, Val: 1.5443, Test: 1.5568\n",
      "Epoch: 370, Loss: 46.6037, Train: 1.4808, Val: 1.5429, Test: 1.5564\n",
      "Epoch: 371, Loss: 45.3771, Train: 1.4792, Val: 1.5402, Test: 1.5557\n",
      "Epoch: 372, Loss: 44.7147, Train: 1.4795, Val: 1.5407, Test: 1.5561\n",
      "Epoch: 373, Loss: 43.8954, Train: 1.4815, Val: 1.5440, Test: 1.5574\n",
      "Epoch: 374, Loss: 42.9574, Train: 1.4825, Val: 1.5452, Test: 1.5581\n",
      "Epoch: 375, Loss: 42.4249, Train: 1.4816, Val: 1.5436, Test: 1.5577\n",
      "Epoch: 376, Loss: 41.3719, Train: 1.4813, Val: 1.5424, Test: 1.5576\n",
      "Epoch: 377, Loss: 40.9489, Train: 1.4819, Val: 1.5440, Test: 1.5582\n",
      "Epoch: 378, Loss: 39.9690, Train: 1.4829, Val: 1.5457, Test: 1.5590\n",
      "Epoch: 379, Loss: 39.4867, Train: 1.4823, Val: 1.5449, Test: 1.5587\n",
      "Epoch: 380, Loss: 38.6718, Train: 1.4812, Val: 1.5430, Test: 1.5581\n",
      "Epoch: 381, Loss: 38.0701, Train: 1.4811, Val: 1.5429, Test: 1.5582\n",
      "Epoch: 382, Loss: 37.4326, Train: 1.4820, Val: 1.5445, Test: 1.5588\n",
      "Epoch: 383, Loss: 36.7409, Train: 1.4824, Val: 1.5453, Test: 1.5592\n",
      "Epoch: 384, Loss: 36.2268, Train: 1.4819, Val: 1.5444, Test: 1.5590\n",
      "Epoch: 385, Loss: 35.5051, Train: 1.4815, Val: 1.5437, Test: 1.5588\n",
      "Epoch: 386, Loss: 35.0430, Train: 1.4818, Val: 1.5445, Test: 1.5591\n",
      "Epoch: 387, Loss: 34.3616, Train: 1.4820, Val: 1.5452, Test: 1.5594\n",
      "Epoch: 388, Loss: 33.8839, Train: 1.4814, Val: 1.5443, Test: 1.5591\n",
      "Epoch: 389, Loss: 33.2876, Train: 1.4806, Val: 1.5430, Test: 1.5584\n",
      "Epoch: 390, Loss: 32.7739, Train: 1.4804, Val: 1.5428, Test: 1.5583\n",
      "Epoch: 391, Loss: 32.2540, Train: 1.4806, Val: 1.5436, Test: 1.5587\n",
      "Epoch: 392, Loss: 31.7192, Train: 1.4806, Val: 1.5439, Test: 1.5589\n",
      "Epoch: 393, Loss: 31.2640, Train: 1.4802, Val: 1.5432, Test: 1.5585\n",
      "Epoch: 394, Loss: 30.7265, Train: 1.4798, Val: 1.5426, Test: 1.5581\n",
      "Epoch: 395, Loss: 30.2995, Train: 1.4797, Val: 1.5427, Test: 1.5582\n",
      "Epoch: 396, Loss: 29.7864, Train: 1.4796, Val: 1.5428, Test: 1.5582\n",
      "Epoch: 397, Loss: 29.3561, Train: 1.4790, Val: 1.5421, Test: 1.5579\n",
      "Epoch: 398, Loss: 28.8911, Train: 1.4783, Val: 1.5414, Test: 1.5574\n",
      "Epoch: 399, Loss: 28.4551, Train: 1.4779, Val: 1.5409, Test: 1.5571\n",
      "Epoch: 400, Loss: 28.0323, Train: 1.4778, Val: 1.5406, Test: 1.5570\n",
      "Epoch: 401, Loss: 27.6019, Train: 1.4776, Val: 1.5404, Test: 1.5569\n",
      "Epoch: 402, Loss: 27.2044, Train: 1.4771, Val: 1.5399, Test: 1.5565\n",
      "Epoch: 403, Loss: 26.7866, Train: 1.4767, Val: 1.5394, Test: 1.5562\n",
      "Epoch: 404, Loss: 26.4021, Train: 1.4764, Val: 1.5391, Test: 1.5560\n",
      "Epoch: 405, Loss: 26.0047, Train: 1.4761, Val: 1.5387, Test: 1.5558\n",
      "Epoch: 406, Loss: 25.6330, Train: 1.4755, Val: 1.5382, Test: 1.5555\n",
      "Epoch: 407, Loss: 25.2536, Train: 1.4750, Val: 1.5375, Test: 1.5550\n",
      "Epoch: 408, Loss: 24.8894, Train: 1.4744, Val: 1.5370, Test: 1.5546\n",
      "Epoch: 409, Loss: 24.5340, Train: 1.4740, Val: 1.5365, Test: 1.5544\n",
      "Epoch: 410, Loss: 24.1759, Train: 1.4736, Val: 1.5361, Test: 1.5541\n",
      "Epoch: 411, Loss: 23.8333, Train: 1.4731, Val: 1.5355, Test: 1.5537\n",
      "Epoch: 412, Loss: 23.4903, Train: 1.4726, Val: 1.5351, Test: 1.5534\n",
      "Epoch: 413, Loss: 23.1688, Train: 1.4721, Val: 1.5345, Test: 1.5531\n",
      "Epoch: 414, Loss: 22.8328, Train: 1.4716, Val: 1.5340, Test: 1.5529\n",
      "Epoch: 415, Loss: 22.5173, Train: 1.4711, Val: 1.5335, Test: 1.5525\n",
      "Epoch: 416, Loss: 22.1956, Train: 1.4705, Val: 1.5329, Test: 1.5520\n",
      "Epoch: 417, Loss: 21.8890, Train: 1.4699, Val: 1.5323, Test: 1.5517\n",
      "Epoch: 418, Loss: 21.5856, Train: 1.4694, Val: 1.5318, Test: 1.5514\n",
      "Epoch: 419, Loss: 21.2895, Train: 1.4688, Val: 1.5312, Test: 1.5510\n",
      "Epoch: 420, Loss: 20.9982, Train: 1.4682, Val: 1.5306, Test: 1.5506\n",
      "Epoch: 421, Loss: 20.7074, Train: 1.4677, Val: 1.5300, Test: 1.5502\n",
      "Epoch: 422, Loss: 20.4273, Train: 1.4670, Val: 1.5295, Test: 1.5498\n",
      "Epoch: 423, Loss: 20.1488, Train: 1.4664, Val: 1.5290, Test: 1.5495\n",
      "Epoch: 424, Loss: 19.8765, Train: 1.4658, Val: 1.5285, Test: 1.5490\n",
      "Epoch: 425, Loss: 19.6050, Train: 1.4652, Val: 1.5278, Test: 1.5486\n",
      "Epoch: 426, Loss: 19.3442, Train: 1.4647, Val: 1.5273, Test: 1.5481\n",
      "Epoch: 427, Loss: 19.0835, Train: 1.4639, Val: 1.5267, Test: 1.5475\n",
      "Epoch: 428, Loss: 18.8316, Train: 1.4634, Val: 1.5261, Test: 1.5470\n",
      "Epoch: 429, Loss: 18.5831, Train: 1.4628, Val: 1.5256, Test: 1.5464\n",
      "Epoch: 430, Loss: 18.3349, Train: 1.4621, Val: 1.5250, Test: 1.5459\n",
      "Epoch: 431, Loss: 18.0938, Train: 1.4615, Val: 1.5244, Test: 1.5453\n",
      "Epoch: 432, Loss: 17.8558, Train: 1.4608, Val: 1.5237, Test: 1.5447\n",
      "Epoch: 433, Loss: 17.6243, Train: 1.4603, Val: 1.5232, Test: 1.5443\n",
      "Epoch: 434, Loss: 17.3902, Train: 1.4597, Val: 1.5226, Test: 1.5438\n",
      "Epoch: 435, Loss: 17.1628, Train: 1.4589, Val: 1.5218, Test: 1.5432\n",
      "Epoch: 436, Loss: 16.9417, Train: 1.4582, Val: 1.5211, Test: 1.5426\n",
      "Epoch: 437, Loss: 16.7244, Train: 1.4576, Val: 1.5205, Test: 1.5420\n",
      "Epoch: 438, Loss: 16.5079, Train: 1.4570, Val: 1.5199, Test: 1.5416\n",
      "Epoch: 439, Loss: 16.2934, Train: 1.4563, Val: 1.5191, Test: 1.5411\n",
      "Epoch: 440, Loss: 16.0864, Train: 1.4556, Val: 1.5185, Test: 1.5405\n",
      "Epoch: 441, Loss: 15.8809, Train: 1.4549, Val: 1.5179, Test: 1.5400\n",
      "Epoch: 442, Loss: 15.6775, Train: 1.4542, Val: 1.5172, Test: 1.5395\n",
      "Epoch: 443, Loss: 15.4810, Train: 1.4536, Val: 1.5167, Test: 1.5390\n",
      "Epoch: 444, Loss: 15.2829, Train: 1.4530, Val: 1.5161, Test: 1.5385\n",
      "Epoch: 445, Loss: 15.0892, Train: 1.4523, Val: 1.5154, Test: 1.5380\n",
      "Epoch: 446, Loss: 14.9023, Train: 1.4516, Val: 1.5148, Test: 1.5375\n",
      "Epoch: 447, Loss: 14.7140, Train: 1.4509, Val: 1.5142, Test: 1.5369\n",
      "Epoch: 448, Loss: 14.5297, Train: 1.4501, Val: 1.5135, Test: 1.5364\n",
      "Epoch: 449, Loss: 14.3500, Train: 1.4494, Val: 1.5129, Test: 1.5358\n",
      "Epoch: 450, Loss: 14.1711, Train: 1.4488, Val: 1.5123, Test: 1.5354\n",
      "Epoch: 451, Loss: 13.9947, Train: 1.4482, Val: 1.5119, Test: 1.5350\n",
      "Epoch: 452, Loss: 13.8214, Train: 1.4475, Val: 1.5112, Test: 1.5344\n",
      "Epoch: 453, Loss: 13.6518, Train: 1.4467, Val: 1.5105, Test: 1.5338\n",
      "Epoch: 454, Loss: 13.4839, Train: 1.4459, Val: 1.5098, Test: 1.5332\n",
      "Epoch: 455, Loss: 13.3181, Train: 1.4453, Val: 1.5093, Test: 1.5328\n",
      "Epoch: 456, Loss: 13.1540, Train: 1.4447, Val: 1.5089, Test: 1.5324\n",
      "Epoch: 457, Loss: 12.9949, Train: 1.4441, Val: 1.5083, Test: 1.5319\n",
      "Epoch: 458, Loss: 12.8352, Train: 1.4433, Val: 1.5076, Test: 1.5313\n",
      "Epoch: 459, Loss: 12.6823, Train: 1.4425, Val: 1.5070, Test: 1.5308\n",
      "Epoch: 460, Loss: 12.5272, Train: 1.4419, Val: 1.5064, Test: 1.5303\n",
      "Epoch: 461, Loss: 12.3769, Train: 1.4412, Val: 1.5059, Test: 1.5299\n",
      "Epoch: 462, Loss: 12.2277, Train: 1.4405, Val: 1.5053, Test: 1.5294\n",
      "Epoch: 463, Loss: 12.0801, Train: 1.4398, Val: 1.5047, Test: 1.5288\n",
      "Epoch: 464, Loss: 11.9351, Train: 1.4391, Val: 1.5041, Test: 1.5284\n",
      "Epoch: 465, Loss: 11.7941, Train: 1.4385, Val: 1.5035, Test: 1.5279\n",
      "Epoch: 466, Loss: 11.6535, Train: 1.4378, Val: 1.5029, Test: 1.5274\n",
      "Epoch: 467, Loss: 11.5153, Train: 1.4370, Val: 1.5023, Test: 1.5269\n",
      "Epoch: 468, Loss: 11.3786, Train: 1.4365, Val: 1.5018, Test: 1.5265\n",
      "Epoch: 469, Loss: 11.2439, Train: 1.4359, Val: 1.5013, Test: 1.5260\n",
      "Epoch: 470, Loss: 11.1123, Train: 1.4352, Val: 1.5007, Test: 1.5255\n",
      "Epoch: 471, Loss: 10.9791, Train: 1.4345, Val: 1.5001, Test: 1.5250\n",
      "Epoch: 472, Loss: 10.8517, Train: 1.4337, Val: 1.4995, Test: 1.5244\n",
      "Epoch: 473, Loss: 10.7257, Train: 1.4331, Val: 1.4989, Test: 1.5239\n",
      "Epoch: 474, Loss: 10.5997, Train: 1.4325, Val: 1.4984, Test: 1.5234\n",
      "Epoch: 475, Loss: 10.4765, Train: 1.4318, Val: 1.4979, Test: 1.5229\n",
      "Epoch: 476, Loss: 10.3552, Train: 1.4310, Val: 1.4973, Test: 1.5224\n",
      "Epoch: 477, Loss: 10.2367, Train: 1.4306, Val: 1.4969, Test: 1.5219\n",
      "Epoch: 478, Loss: 10.1173, Train: 1.4301, Val: 1.4964, Test: 1.5215\n",
      "Epoch: 479, Loss: 10.0010, Train: 1.4294, Val: 1.4958, Test: 1.5209\n"
     ]
    }
   ],
   "source": [
    "for epoch in range(1, 480):\n",
    "    loss = train()\n",
    "    train_rmse = test(train_data)\n",
    "    val_rmse = test(val_data)\n",
    "    test_rmse = test(test_data)\n",
    "    print(f'Epoch: {epoch:03d}, Loss: {loss:.4f}, Train: {train_rmse:.4f}, '\n",
    "          f'Val: {val_rmse:.4f}, Test: {test_rmse:.4f}')"
   ],
   "metadata": {
    "collapsed": false,
    "ExecuteTime": {
     "end_time": "2023-11-26T09:10:19.648557Z",
     "start_time": "2023-11-26T09:10:15.290011600Z"
    }
   },
   "id": "b3bb283aa6640b24"
  },
  {
   "cell_type": "code",
   "execution_count": 192,
   "outputs": [
    {
     "name": "stderr",
     "output_type": "stream",
     "text": [
      "100%|██████████| 943/943 [00:01<00:00, 630.83it/s]\n"
     ]
    }
   ],
   "source": [
    "from tqdm import tqdm\n",
    "\n",
    "total_users = len(users)\n",
    "total_movies = len(items)\n",
    "movie_recs = []\n",
    "for user_id in tqdm(range(0, total_users)):\n",
    "    user_row = torch.tensor([user_id] * total_movies)\n",
    "    all_movie_ids = torch.arange(total_movies)\n",
    "    edge_label_index = torch.stack([user_row, all_movie_ids], dim=0)\n",
    "    pred = model(data.x_dict, data.edge_index_dict,\n",
    "             edge_label_index)\n",
    "    pred = pred.clamp(min=0, max=5)\n",
    "    # we will only select movies for the user where the predicting rating is =5\n",
    "    rec_movie_ids = (pred == 5).nonzero(as_tuple=True)\n",
    "    top_ten_recs = [rec_movies + 1 for rec_movies in rec_movie_ids[0].tolist()[:10]] \n",
    "    movie_recs.append({'user': user_id + 1, 'rec_movies': top_ten_recs})"
   ],
   "metadata": {
    "collapsed": false,
    "ExecuteTime": {
     "end_time": "2023-11-26T09:10:23.634518Z",
     "start_time": "2023-11-26T09:10:22.120136600Z"
    }
   },
   "id": "62c84c7bc07998ba"
  },
  {
   "cell_type": "code",
   "execution_count": 193,
   "outputs": [
    {
     "data": {
      "text/plain": "[{'user': 1, 'rec_movies': [5, 16, 17, 18, 27, 30, 34, 35, 36, 37]},\n {'user': 2, 'rec_movies': [261, 267, 338, 350, 682, 867, 880]},\n {'user': 3, 'rec_movies': [261, 267, 350, 867, 880]},\n {'user': 4, 'rec_movies': [261, 267, 350, 867, 880]},\n {'user': 5, 'rec_movies': [5, 17, 18, 27, 34, 35, 36, 37, 53, 57]},\n {'user': 6, 'rec_movies': [261, 267, 306, 338, 350, 682, 689, 867, 880]},\n {'user': 7, 'rec_movies': [261, 267, 306, 338, 350, 682, 689, 867, 880]},\n {'user': 8, 'rec_movies': [261, 267, 338, 350, 682, 867, 880]},\n {'user': 9, 'rec_movies': [261, 267, 306, 338, 350, 682, 689, 867, 880]},\n {'user': 10, 'rec_movies': [261, 267, 306, 338, 350, 682, 689, 867, 880]},\n {'user': 11, 'rec_movies': [261, 267, 338, 350, 682, 867, 880]},\n {'user': 12, 'rec_movies': [261, 267, 338, 350, 682, 867, 880]},\n {'user': 13, 'rec_movies': [261, 267, 306, 338, 350, 682, 689, 867, 880]},\n {'user': 14, 'rec_movies': [261, 267, 306, 338, 350, 682, 689, 867, 880]},\n {'user': 15, 'rec_movies': [261, 267, 350, 682, 867, 880]},\n {'user': 16, 'rec_movies': [261, 267, 338, 350, 682, 867, 880]},\n {'user': 17, 'rec_movies': [261, 267, 350, 867, 880]},\n {'user': 18, 'rec_movies': [261, 267, 306, 338, 350, 682, 689, 867, 880]},\n {'user': 19, 'rec_movies': [261, 267, 350, 682, 867, 880]},\n {'user': 20, 'rec_movies': [261, 267, 338, 350, 682, 689, 867, 880]},\n {'user': 21, 'rec_movies': [261, 267, 350, 867, 880]},\n {'user': 22, 'rec_movies': [261, 267, 350, 867, 880]},\n {'user': 23, 'rec_movies': [261, 267, 338, 350, 682, 689, 867, 880]},\n {'user': 24, 'rec_movies': [261, 267, 350, 867, 880]},\n {'user': 25, 'rec_movies': [261, 267, 306, 338, 350, 682, 689, 867, 880]},\n {'user': 26, 'rec_movies': [261, 267, 350, 867, 880]},\n {'user': 27, 'rec_movies': [261, 267, 350, 867, 880]},\n {'user': 28, 'rec_movies': [261, 267, 338, 350, 682, 689, 867, 880]},\n {'user': 29, 'rec_movies': [261, 267, 350, 682, 867, 880]},\n {'user': 30, 'rec_movies': [261, 267, 350, 867, 880]},\n {'user': 31, 'rec_movies': [261, 267, 306, 338, 350, 682, 689, 867, 880]},\n {'user': 32, 'rec_movies': [261, 267, 350, 867, 880]},\n {'user': 33, 'rec_movies': [261, 267, 350, 867, 880]},\n {'user': 34, 'rec_movies': [261, 267, 350, 867, 880]},\n {'user': 35, 'rec_movies': [261, 267, 350, 867, 880]},\n {'user': 36, 'rec_movies': [261, 267, 350, 867, 880]},\n {'user': 37, 'rec_movies': [261, 267, 350, 867, 880]},\n {'user': 38, 'rec_movies': [261, 267, 338, 350, 682, 867, 880]},\n {'user': 39, 'rec_movies': [261, 267, 350, 867, 880]},\n {'user': 40, 'rec_movies': [261, 267, 350, 867, 880]},\n {'user': 41, 'rec_movies': [261, 267, 338, 350, 682, 689, 867, 880]},\n {'user': 42, 'rec_movies': [261, 267, 338, 350, 682, 867, 880]},\n {'user': 43, 'rec_movies': [261, 267, 350, 867, 880]},\n {'user': 44, 'rec_movies': [261, 267, 338, 350, 682, 689, 867, 880]},\n {'user': 45, 'rec_movies': [261, 267, 350, 867, 880]},\n {'user': 46, 'rec_movies': [261, 267, 350, 867, 880]},\n {'user': 47, 'rec_movies': [261, 267, 350, 867, 880]},\n {'user': 48, 'rec_movies': [261, 267, 306, 338, 350, 682, 689, 867, 880]},\n {'user': 49, 'rec_movies': [261, 267, 350, 867, 880]},\n {'user': 50, 'rec_movies': [261, 267, 350, 867, 880]},\n {'user': 51, 'rec_movies': [261, 267, 306, 338, 350, 682, 689, 867, 880]},\n {'user': 52, 'rec_movies': [261, 267, 350, 867, 880]},\n {'user': 53, 'rec_movies': [261, 267, 350, 867, 880]},\n {'user': 54, 'rec_movies': [261, 267, 350, 867, 880]},\n {'user': 55, 'rec_movies': [261, 267, 350, 867, 880]},\n {'user': 56, 'rec_movies': [261, 267, 350, 867, 880]},\n {'user': 57, 'rec_movies': [261, 267, 350, 867, 880]},\n {'user': 58, 'rec_movies': [261, 267, 338, 350, 682, 867, 880]},\n {'user': 59, 'rec_movies': [261, 267, 306, 338, 350, 682, 689, 867, 880]},\n {'user': 60,\n  'rec_movies': [261, 267, 306, 338, 350, 358, 682, 689, 773, 859]},\n {'user': 61, 'rec_movies': [261, 267, 350, 867, 880]},\n {'user': 62, 'rec_movies': [261, 267, 350, 867, 880]},\n {'user': 63, 'rec_movies': [261, 267, 350, 867, 880]},\n {'user': 64, 'rec_movies': [261, 267, 338, 350, 682, 689, 867, 880]},\n {'user': 65, 'rec_movies': [261, 267, 306, 338, 350, 682, 689, 867, 880]},\n {'user': 66, 'rec_movies': [261, 267, 350, 867, 880]},\n {'user': 67, 'rec_movies': [261, 267, 350, 867, 880]},\n {'user': 68, 'rec_movies': [261, 267, 350, 867, 880]},\n {'user': 69, 'rec_movies': [261, 267, 350, 867, 880]},\n {'user': 70, 'rec_movies': [261, 267, 338, 350, 682, 689, 867, 880]},\n {'user': 71, 'rec_movies': [261, 267, 338, 350, 682, 689, 867, 880]},\n {'user': 72, 'rec_movies': [261, 267, 306, 338, 350, 682, 689, 867, 880]},\n {'user': 73, 'rec_movies': [261, 267, 338, 350, 682, 867, 880]},\n {'user': 74, 'rec_movies': [261, 267, 350, 867, 880]},\n {'user': 75, 'rec_movies': [261, 267, 350, 867, 880]},\n {'user': 76, 'rec_movies': [261, 267, 350, 867, 880]},\n {'user': 77, 'rec_movies': [261, 267, 306, 338, 350, 682, 689, 867, 880]},\n {'user': 78, 'rec_movies': [261, 267, 350, 867, 880]},\n {'user': 79, 'rec_movies': [261, 267, 350, 867, 880]},\n {'user': 80, 'rec_movies': [261, 267, 338, 350, 682, 689, 867, 880]},\n {'user': 81, 'rec_movies': [261, 267, 350, 867, 880]},\n {'user': 82, 'rec_movies': [261, 267, 306, 338, 350, 682, 689, 867, 880]},\n {'user': 83, 'rec_movies': [261, 267, 350, 867, 880]},\n {'user': 84, 'rec_movies': [261, 267, 350, 867, 880]},\n {'user': 85, 'rec_movies': [261, 267, 306, 338, 350, 682, 689, 867, 880]},\n {'user': 86, 'rec_movies': [261, 267, 350, 867, 880]},\n {'user': 87, 'rec_movies': [261, 267, 338, 350, 682, 689, 867, 880]},\n {'user': 88, 'rec_movies': [261, 267, 350, 867, 880]},\n {'user': 89, 'rec_movies': [261, 267, 350, 682, 867, 880]},\n {'user': 90, 'rec_movies': [261, 267, 306, 338, 350, 682, 689, 867, 880]},\n {'user': 91, 'rec_movies': [261, 267, 306, 338, 350, 682, 689, 867, 880]},\n {'user': 92, 'rec_movies': [261, 267, 350, 867, 880]},\n {'user': 93, 'rec_movies': [261, 267, 350, 682, 867, 880]},\n {'user': 94, 'rec_movies': [261, 267, 350, 682, 867, 880]},\n {'user': 95, 'rec_movies': [261, 267, 338, 350, 682, 689, 867, 880]},\n {'user': 96, 'rec_movies': [261, 267, 306, 338, 350, 682, 689, 867, 880]},\n {'user': 97, 'rec_movies': [261, 267, 306, 338, 350, 682, 689, 867, 880]},\n {'user': 98, 'rec_movies': [261, 267, 306, 338, 350, 682, 689, 867, 880]},\n {'user': 99, 'rec_movies': [261, 267, 350, 867, 880]},\n {'user': 100, 'rec_movies': [261, 267, 350, 867, 880]},\n {'user': 101, 'rec_movies': [261, 267, 350, 867, 880]},\n {'user': 102, 'rec_movies': [261, 267, 338, 350, 682, 867, 880]},\n {'user': 103, 'rec_movies': [261, 267, 350, 867, 880]},\n {'user': 104, 'rec_movies': [261, 267, 350, 867, 880]},\n {'user': 105, 'rec_movies': [261, 267, 350, 867, 880]},\n {'user': 106, 'rec_movies': [261, 267, 306, 338, 350, 682, 689, 867, 880]},\n {'user': 107, 'rec_movies': [261, 267, 350, 867, 880]},\n {'user': 108, 'rec_movies': [261, 267, 350, 867, 880]},\n {'user': 109, 'rec_movies': [261, 267, 350, 867, 880]},\n {'user': 110, 'rec_movies': [261, 267, 350, 867, 880]},\n {'user': 111, 'rec_movies': [261, 267, 350, 682, 867, 880]},\n {'user': 112, 'rec_movies': [261, 267, 350, 867, 880]},\n {'user': 113, 'rec_movies': [261, 267, 350, 867, 880]},\n {'user': 114, 'rec_movies': [261, 267, 306, 338, 350, 682, 689, 867, 880]},\n {'user': 115, 'rec_movies': [261, 267, 338, 350, 682, 867, 880]},\n {'user': 116, 'rec_movies': [261, 267, 338, 350, 682, 867, 880]},\n {'user': 117, 'rec_movies': [261, 267, 350, 867, 880]},\n {'user': 118, 'rec_movies': [261, 267, 338, 350, 682, 867, 880]},\n {'user': 119, 'rec_movies': [261, 267, 350, 867, 880]},\n {'user': 120, 'rec_movies': [261, 267, 350, 682, 867, 880]},\n {'user': 121, 'rec_movies': [261, 267, 338, 350, 682, 689, 867, 880]},\n {'user': 122, 'rec_movies': [261, 267, 338, 350, 682, 689, 867, 880]},\n {'user': 123, 'rec_movies': [261, 267, 306, 338, 350, 682, 689, 867, 880]},\n {'user': 124, 'rec_movies': [261, 267, 338, 350, 682, 689, 867, 880]},\n {'user': 125, 'rec_movies': [261, 267, 338, 350, 682, 867, 880]},\n {'user': 126, 'rec_movies': [261, 267, 350, 867, 880]},\n {'user': 127, 'rec_movies': [261, 267, 350, 867, 880]},\n {'user': 128, 'rec_movies': [261, 267, 338, 350, 682, 689, 867, 880]},\n {'user': 129, 'rec_movies': [261, 267, 350, 867, 880]},\n {'user': 130, 'rec_movies': [5, 16, 17, 18, 21, 24, 26, 27, 29, 30]},\n {'user': 131, 'rec_movies': [261, 267, 338, 350, 682, 867, 880]},\n {'user': 132, 'rec_movies': [261, 267, 338, 350, 682, 689, 867, 880]},\n {'user': 133, 'rec_movies': [261, 267, 350, 867, 880]},\n {'user': 134, 'rec_movies': [261, 267, 350, 867, 880]},\n {'user': 135, 'rec_movies': [261, 267, 350, 867, 880]},\n {'user': 136, 'rec_movies': [261, 267, 338, 350, 682, 689, 867, 880]},\n {'user': 137, 'rec_movies': [261, 267, 338, 350, 682, 867, 880]},\n {'user': 138, 'rec_movies': [261, 267, 306, 338, 350, 682, 689, 867, 880]},\n {'user': 139, 'rec_movies': [261, 267, 350, 867, 880]},\n {'user': 140, 'rec_movies': [261, 267, 350, 867, 880]},\n {'user': 141, 'rec_movies': [261, 267, 350, 867, 880]},\n {'user': 142, 'rec_movies': [261, 267, 350, 867, 880]},\n {'user': 143, 'rec_movies': [261, 267, 350, 867, 880]},\n {'user': 144, 'rec_movies': [261, 267, 338, 350, 682, 689, 867, 880]},\n {'user': 145, 'rec_movies': [261, 267, 350, 867, 880]},\n {'user': 146, 'rec_movies': [261, 267, 350, 867, 880]},\n {'user': 147, 'rec_movies': [261, 267, 350, 867, 880]},\n {'user': 148, 'rec_movies': [261, 267, 306, 338, 350, 682, 689, 867, 880]},\n {'user': 149, 'rec_movies': [261, 267, 350, 867, 880]},\n {'user': 150, 'rec_movies': [261, 267, 350, 867, 880]},\n {'user': 151, 'rec_movies': [261, 267, 306, 338, 350, 682, 689, 867, 880]},\n {'user': 152, 'rec_movies': [261, 267, 338, 350, 682, 867, 880]},\n {'user': 153, 'rec_movies': [261, 267, 350, 682, 867, 880]},\n {'user': 154, 'rec_movies': [261, 267, 306, 338, 350, 682, 689, 867, 880]},\n {'user': 155, 'rec_movies': [261, 267, 350, 867, 880]},\n {'user': 156, 'rec_movies': [261, 267, 338, 350, 682, 689, 867, 880]},\n {'user': 157, 'rec_movies': [261, 267, 338, 350, 682, 867, 880]},\n {'user': 158, 'rec_movies': [261, 267, 338, 350, 682, 689, 867, 880]},\n {'user': 159, 'rec_movies': [261, 267, 350, 867, 880]},\n {'user': 160, 'rec_movies': [261, 267, 338, 350, 682, 867, 880]},\n {'user': 161, 'rec_movies': [261, 267, 306, 338, 350, 682, 689, 867, 880]},\n {'user': 162, 'rec_movies': [261, 267, 350, 867, 880]},\n {'user': 163, 'rec_movies': [261, 267, 338, 350, 682, 867, 880]},\n {'user': 164, 'rec_movies': [261, 267, 350, 867, 880]},\n {'user': 165, 'rec_movies': [261, 267, 350, 867, 880]},\n {'user': 166, 'rec_movies': [261, 267, 350, 867, 880]},\n {'user': 167, 'rec_movies': [261, 267, 306, 338, 350, 682, 689, 867, 880]},\n {'user': 168, 'rec_movies': [261, 267, 350, 867, 880]},\n {'user': 169,\n  'rec_movies': [261, 267, 306, 338, 350, 358, 682, 689, 773, 859]},\n {'user': 170, 'rec_movies': [261, 267, 350, 867, 880]},\n {'user': 171, 'rec_movies': [261, 267, 350, 867, 880]},\n {'user': 172,\n  'rec_movies': [261, 267, 306, 338, 350, 358, 682, 689, 750, 773]},\n {'user': 173, 'rec_movies': [261, 267, 350, 682, 867, 880]},\n {'user': 174, 'rec_movies': [261, 267, 350, 867, 880]},\n {'user': 175, 'rec_movies': [261, 267, 306, 338, 350, 682, 689, 867, 880]},\n {'user': 176, 'rec_movies': [261, 267, 350, 867, 880]},\n {'user': 177, 'rec_movies': [261, 267, 350, 867, 880]},\n {'user': 178, 'rec_movies': [261, 267, 350, 867, 880]},\n {'user': 179, 'rec_movies': [261, 267, 350, 867, 880]},\n {'user': 180, 'rec_movies': [261, 267, 350, 867, 880]},\n {'user': 181, 'rec_movies': [261, 267, 350, 867, 880]},\n {'user': 182, 'rec_movies': [261, 267, 350, 682, 867, 880]},\n {'user': 183, 'rec_movies': [261, 267, 350, 682, 867, 880]},\n {'user': 184, 'rec_movies': [261, 267, 338, 350, 682, 689, 867, 880]},\n {'user': 185, 'rec_movies': [261, 267, 306, 338, 350, 682, 689, 867, 880]},\n {'user': 186, 'rec_movies': [261, 267, 350, 867, 880]},\n {'user': 187, 'rec_movies': [261, 267, 338, 350, 682, 689, 867, 880]},\n {'user': 188, 'rec_movies': [261, 267, 306, 338, 350, 682, 689, 867, 880]},\n {'user': 189, 'rec_movies': [261, 267, 306, 338, 350, 682, 689, 867, 880]},\n {'user': 190, 'rec_movies': [261, 267, 350, 867, 880]},\n {'user': 191, 'rec_movies': [261, 267, 350, 867, 880]},\n {'user': 192, 'rec_movies': [261, 267, 350, 867, 880]},\n {'user': 193, 'rec_movies': [261, 267, 350, 867, 880]},\n {'user': 194, 'rec_movies': [261, 267, 306, 338, 350, 682, 689, 867, 880]},\n {'user': 195, 'rec_movies': [261, 267, 338, 350, 682, 867, 880]},\n {'user': 196, 'rec_movies': [261, 267, 338, 350, 682, 867, 880]},\n {'user': 197, 'rec_movies': [261, 267, 338, 350, 682, 689, 867, 880]},\n {'user': 198, 'rec_movies': [261, 267, 350, 682, 867, 880]},\n {'user': 199, 'rec_movies': [261, 267, 350, 867, 880]},\n {'user': 200, 'rec_movies': [261, 267, 338, 350, 682, 689, 867, 880]},\n {'user': 201, 'rec_movies': [261, 267, 350, 867, 880]},\n {'user': 202, 'rec_movies': [261, 267, 306, 338, 350, 682, 689, 867, 880]},\n {'user': 203, 'rec_movies': [261, 267, 350, 867, 880]},\n {'user': 204, 'rec_movies': [261, 267, 350, 682, 867, 880]},\n {'user': 205, 'rec_movies': [261, 267, 350, 867, 880]},\n {'user': 206, 'rec_movies': [261, 267, 350, 867, 880]},\n {'user': 207, 'rec_movies': [261, 267, 338, 350, 682, 867, 880]},\n {'user': 208, 'rec_movies': [261, 267, 306, 338, 350, 682, 689, 867, 880]},\n {'user': 209, 'rec_movies': [261, 267, 350, 867, 880]},\n {'user': 210, 'rec_movies': [261, 267, 306, 338, 350, 682, 689, 867, 880]},\n {'user': 211, 'rec_movies': [261, 267, 306, 338, 350, 682, 689, 867, 880]},\n {'user': 212, 'rec_movies': [261, 267, 306, 338, 350, 682, 689, 867, 880]},\n {'user': 213, 'rec_movies': [261, 267, 338, 350, 682, 689, 867, 880]},\n {'user': 214, 'rec_movies': [261, 267, 338, 350, 682, 867, 880]},\n {'user': 215, 'rec_movies': [261, 267, 306, 338, 350, 682, 689, 867, 880]},\n {'user': 216, 'rec_movies': [261, 267, 350, 867, 880]},\n {'user': 217, 'rec_movies': [261, 267, 350, 867, 880]},\n {'user': 218, 'rec_movies': [261, 267, 338, 350, 682, 689, 867, 880]},\n {'user': 219, 'rec_movies': [261, 267, 350, 682, 867, 880]},\n {'user': 220, 'rec_movies': [261, 267, 350, 867, 880]},\n {'user': 221, 'rec_movies': [261, 267, 350, 867, 880]},\n {'user': 222, 'rec_movies': [261, 267, 350, 867, 880]},\n {'user': 223, 'rec_movies': [261, 267, 350, 867, 880]},\n {'user': 224, 'rec_movies': [261, 267, 350, 867, 880]},\n {'user': 225,\n  'rec_movies': [261, 267, 306, 338, 346, 350, 358, 682, 689, 750]},\n {'user': 226, 'rec_movies': [261, 267, 350, 682, 867, 880]},\n {'user': 227, 'rec_movies': [261, 267, 350, 867, 880]},\n {'user': 228, 'rec_movies': [261, 267, 350, 867, 880]},\n {'user': 229, 'rec_movies': [261, 267, 350, 867, 880]},\n {'user': 230, 'rec_movies': [261, 267, 306, 338, 350, 682, 689, 867, 880]},\n {'user': 231, 'rec_movies': [261, 267, 350, 682, 867, 880]},\n {'user': 232, 'rec_movies': [261, 267, 306, 338, 350, 682, 689, 867, 880]},\n {'user': 233, 'rec_movies': [261, 267, 306, 338, 350, 682, 689, 867, 880]},\n {'user': 234, 'rec_movies': [261, 267, 306, 338, 350, 682, 689, 867, 880]},\n {'user': 235, 'rec_movies': [261, 267, 306, 338, 350, 682, 689, 867, 880]},\n {'user': 236, 'rec_movies': [261, 267, 306, 338, 350, 682, 689, 867, 880]},\n {'user': 237,\n  'rec_movies': [261, 267, 306, 338, 350, 358, 682, 689, 773, 859]},\n {'user': 238, 'rec_movies': [261, 267, 350, 867, 880]},\n {'user': 239, 'rec_movies': [261, 267, 306, 338, 350, 682, 689, 867, 880]},\n {'user': 240, 'rec_movies': [261, 267, 350, 867, 880]},\n {'user': 241, 'rec_movies': [261, 267, 350, 867, 880]},\n {'user': 242, 'rec_movies': [261, 267, 350, 867, 880]},\n {'user': 243, 'rec_movies': [261, 267, 350, 682, 867, 880]},\n {'user': 244, 'rec_movies': [261, 267, 350, 867, 880]},\n {'user': 245, 'rec_movies': [261, 267, 350, 867, 880]},\n {'user': 246, 'rec_movies': [261, 267, 350, 867, 880]},\n {'user': 247, 'rec_movies': [261, 267, 350, 867, 880]},\n {'user': 248, 'rec_movies': [261, 267, 350, 682, 867, 880]},\n {'user': 249, 'rec_movies': [261, 267, 350, 867, 880]},\n {'user': 250, 'rec_movies': [261, 267, 350, 867, 880]},\n {'user': 251, 'rec_movies': [261, 267, 350, 867, 880]},\n {'user': 252, 'rec_movies': [261, 267, 350, 867, 880]},\n {'user': 253, 'rec_movies': [261, 267, 338, 350, 682, 867, 880]},\n {'user': 254, 'rec_movies': [261, 267, 306, 338, 350, 682, 689, 867, 880]},\n {'user': 255, 'rec_movies': [261, 267, 350, 867, 880]},\n {'user': 256, 'rec_movies': [261, 267, 350, 867, 880]},\n {'user': 257, 'rec_movies': [261, 267, 350, 867, 880]},\n {'user': 258, 'rec_movies': [261, 267, 350, 867, 880]},\n {'user': 259, 'rec_movies': [261, 267, 350, 867, 880]},\n {'user': 260, 'rec_movies': [261, 267, 350, 867, 880]},\n {'user': 261, 'rec_movies': [261, 267, 350, 867, 880]},\n {'user': 262, 'rec_movies': [261, 267, 350, 867, 880]},\n {'user': 263, 'rec_movies': [261, 267, 306, 338, 350, 682, 689, 867, 880]},\n {'user': 264, 'rec_movies': [261, 267, 338, 350, 682, 689, 867, 880]},\n {'user': 265, 'rec_movies': [261, 267, 350, 867, 880]},\n {'user': 266, 'rec_movies': [261, 267, 338, 350, 682, 867, 880]},\n {'user': 267, 'rec_movies': [261, 267, 350, 867, 880]},\n {'user': 268, 'rec_movies': [5, 16, 17, 18, 24, 26, 27, 29, 30, 32]},\n {'user': 269, 'rec_movies': [261, 267, 338, 350, 682, 689, 867, 880]},\n {'user': 270, 'rec_movies': [261, 267, 350, 867, 880]},\n {'user': 271, 'rec_movies': [261, 267, 306, 338, 350, 682, 689, 867, 880]},\n {'user': 272, 'rec_movies': [261, 267, 306, 338, 350, 682, 689, 867, 880]},\n {'user': 273, 'rec_movies': [261, 267, 350, 867, 880]},\n {'user': 274, 'rec_movies': [261, 267, 350, 867, 880]},\n {'user': 275, 'rec_movies': [261, 267, 306, 338, 350, 682, 689, 867, 880]},\n {'user': 276, 'rec_movies': [261, 267, 350, 867, 880]},\n {'user': 277, 'rec_movies': [261, 267, 350, 867, 880]},\n {'user': 278, 'rec_movies': [261, 267, 350, 867, 880]},\n {'user': 279, 'rec_movies': [261, 267, 350, 682, 867, 880]},\n {'user': 280, 'rec_movies': [261, 267, 350, 867, 880]},\n {'user': 281, 'rec_movies': [261, 267, 350, 867, 880]},\n {'user': 282, 'rec_movies': [261, 267, 350, 867, 880]},\n {'user': 283, 'rec_movies': [261, 267, 338, 350, 682, 867, 880]},\n {'user': 284, 'rec_movies': [261, 267, 350, 867, 880]},\n {'user': 285, 'rec_movies': [261, 267, 350, 867, 880]},\n {'user': 286, 'rec_movies': [261, 267, 350, 867, 880]},\n {'user': 287, 'rec_movies': [261, 267, 350, 867, 880]},\n {'user': 288, 'rec_movies': [261, 267, 338, 350, 682, 689, 867, 880]},\n {'user': 289, 'rec_movies': [261, 267, 350, 867, 880]},\n {'user': 290, 'rec_movies': [261, 267, 306, 338, 350, 682, 689, 867, 880]},\n {'user': 291, 'rec_movies': [261, 267, 350, 867, 880]},\n {'user': 292, 'rec_movies': [261, 267, 306, 338, 350, 682, 689, 867, 880]},\n {'user': 293, 'rec_movies': [261, 267, 338, 350, 682, 867, 880]},\n {'user': 294, 'rec_movies': [261, 267, 350, 867, 880]},\n {'user': 295, 'rec_movies': [261, 267, 338, 350, 682, 689, 867, 880]},\n {'user': 296, 'rec_movies': [261, 267, 338, 350, 682, 689, 867, 880]},\n {'user': 297, 'rec_movies': [5, 17, 18, 27, 34, 35, 36, 37, 40, 53]},\n {'user': 298, 'rec_movies': [261, 267, 306, 338, 350, 682, 689, 867, 880]},\n {'user': 299, 'rec_movies': [261, 267, 338, 350, 682, 867, 880]},\n {'user': 300, 'rec_movies': [261, 267, 350, 867, 880]},\n {'user': 301, 'rec_movies': [261, 267, 350, 682, 867, 880]},\n {'user': 302, 'rec_movies': [261, 267, 350, 867, 880]},\n {'user': 303, 'rec_movies': [261, 267, 350, 867, 880]},\n {'user': 304, 'rec_movies': [261, 267, 350, 867, 880]},\n {'user': 305, 'rec_movies': [261, 267, 338, 350, 682, 867, 880]},\n {'user': 306, 'rec_movies': [261, 267, 350, 867, 880]},\n {'user': 307, 'rec_movies': [261, 267, 338, 350, 682, 867, 880]},\n {'user': 308, 'rec_movies': [261, 267, 306, 338, 350, 682, 689, 867, 880]},\n {'user': 309, 'rec_movies': [261, 267, 350, 867, 880]},\n {'user': 310, 'rec_movies': [261, 267, 350, 867, 880]},\n {'user': 311, 'rec_movies': [261, 267, 306, 338, 350, 682, 689, 867, 880]},\n {'user': 312,\n  'rec_movies': [261, 267, 306, 338, 350, 358, 682, 689, 750, 773]},\n {'user': 313, 'rec_movies': [261, 267, 306, 338, 350, 682, 689, 867, 880]},\n {'user': 314, 'rec_movies': [261, 267, 350, 867, 880]},\n {'user': 315, 'rec_movies': [261, 267, 338, 350, 682, 689, 867, 880]},\n {'user': 316, 'rec_movies': [261, 267, 306, 338, 350, 682, 689, 867, 880]},\n {'user': 317, 'rec_movies': [261, 267, 350, 867, 880]},\n {'user': 318, 'rec_movies': [261, 267, 306, 338, 350, 682, 689, 867, 880]},\n {'user': 319,\n  'rec_movies': [34, 267, 442, 861, 867, 1189, 1476, 1477, 1502, 1594]},\n {'user': 320, 'rec_movies': [261, 267, 350, 867, 880]},\n {'user': 321,\n  'rec_movies': [261, 267, 306, 338, 350, 682, 689, 859, 867, 880]},\n {'user': 322, 'rec_movies': [261, 267, 306, 338, 350, 682, 689, 867, 880]},\n {'user': 323, 'rec_movies': [261, 267, 350, 867, 880]},\n {'user': 324, 'rec_movies': [261, 267, 350, 867, 880]},\n {'user': 325, 'rec_movies': [261, 267, 306, 338, 350, 682, 689, 867, 880]},\n {'user': 326, 'rec_movies': [261, 267, 306, 338, 350, 682, 689, 867, 880]},\n {'user': 327, 'rec_movies': [261, 267, 350, 867, 880]},\n {'user': 328, 'rec_movies': [261, 267, 338, 350, 682, 689, 867, 880]},\n {'user': 329, 'rec_movies': [261, 267, 338, 350, 682, 689, 867, 880]},\n {'user': 330, 'rec_movies': [261, 267, 338, 350, 682, 689, 867, 880]},\n {'user': 331, 'rec_movies': [261, 267, 338, 350, 682, 689, 867, 880]},\n {'user': 332, 'rec_movies': [261, 267, 350, 867, 880]},\n {'user': 333, 'rec_movies': [261, 267, 306, 338, 350, 682, 689, 867, 880]},\n {'user': 334, 'rec_movies': [261, 267, 338, 350, 682, 867, 880]},\n {'user': 335, 'rec_movies': [261, 267, 350, 867, 880]},\n {'user': 336, 'rec_movies': [261, 267, 350, 867, 880]},\n {'user': 337, 'rec_movies': [261, 267, 338, 350, 682, 867, 880]},\n {'user': 338, 'rec_movies': [261, 267, 306, 338, 350, 682, 689, 867, 880]},\n {'user': 339, 'rec_movies': [261, 267, 306, 338, 350, 682, 689, 867, 880]},\n {'user': 340, 'rec_movies': [261, 267, 306, 338, 350, 682, 689, 867, 880]},\n {'user': 341, 'rec_movies': [261, 267, 350, 867, 880]},\n {'user': 342, 'rec_movies': [261, 267, 338, 350, 682, 867, 880]},\n {'user': 343, 'rec_movies': [261, 267, 338, 350, 682, 689, 867, 880]},\n {'user': 344, 'rec_movies': [261, 267, 350, 867, 880]},\n {'user': 345, 'rec_movies': [261, 267, 350, 867, 880]},\n {'user': 346, 'rec_movies': [261, 267, 338, 350, 682, 867, 880]},\n {'user': 347, 'rec_movies': [261, 267, 350, 867, 880]},\n {'user': 348, 'rec_movies': [261, 267, 350, 867, 880]},\n {'user': 349, 'rec_movies': [261, 267, 338, 350, 682, 689, 867, 880]},\n {'user': 350, 'rec_movies': [261, 267, 306, 338, 350, 682, 689, 867, 880]},\n {'user': 351, 'rec_movies': [261, 267, 338, 350, 682, 867, 880]},\n {'user': 352, 'rec_movies': [261, 267, 338, 350, 682, 867, 880]},\n {'user': 353, 'rec_movies': [261, 267, 350, 867, 880]},\n {'user': 354, 'rec_movies': [261, 267, 338, 350, 682, 689, 867, 880]},\n {'user': 355, 'rec_movies': [261, 267, 350, 867, 880]},\n {'user': 356, 'rec_movies': [261, 267, 350, 867, 880]},\n {'user': 357, 'rec_movies': [261, 267, 350, 867, 880]},\n {'user': 358, 'rec_movies': [261, 267, 306, 338, 350, 682, 689, 867, 880]},\n {'user': 359, 'rec_movies': [261, 267, 350, 867, 880]},\n {'user': 360, 'rec_movies': [261, 267, 306, 338, 350, 682, 689, 867, 880]},\n {'user': 361, 'rec_movies': [261, 267, 338, 350, 682, 867, 880]},\n {'user': 362, 'rec_movies': [261, 267, 350, 867, 880]},\n {'user': 363, 'rec_movies': [261, 267, 350, 867, 880]},\n {'user': 364, 'rec_movies': [261, 267, 338, 350, 682, 867, 880]},\n {'user': 365, 'rec_movies': [261, 267, 350, 867, 880]},\n {'user': 366, 'rec_movies': [261, 267, 338, 350, 682, 689, 867, 880]},\n {'user': 367, 'rec_movies': [261, 267, 350, 867, 880]},\n {'user': 368, 'rec_movies': [261, 267, 350, 867, 880]},\n {'user': 369, 'rec_movies': [261, 267, 350, 867, 880]},\n {'user': 370, 'rec_movies': [261, 267, 306, 338, 350, 682, 689, 867, 880]},\n {'user': 371, 'rec_movies': [261, 267, 306, 338, 350, 682, 689, 867, 880]},\n {'user': 372, 'rec_movies': [261, 267, 350, 867, 880]},\n {'user': 373, 'rec_movies': [261, 267, 338, 350, 682, 689, 867, 880]},\n {'user': 374, 'rec_movies': [261, 267, 350, 867, 880]},\n {'user': 375, 'rec_movies': [261, 267, 350, 867, 880]},\n {'user': 376, 'rec_movies': [261, 267, 338, 350, 682, 867, 880]},\n {'user': 377, 'rec_movies': [261, 267, 350, 867, 880]},\n {'user': 378, 'rec_movies': [261, 267, 338, 350, 682, 867, 880]},\n {'user': 379, 'rec_movies': [261, 267, 306, 338, 350, 682, 689, 867, 880]},\n {'user': 380, 'rec_movies': [261, 267, 338, 350, 682, 689, 867, 880]},\n {'user': 381, 'rec_movies': [261, 267, 306, 338, 350, 682, 689, 867, 880]},\n {'user': 382, 'rec_movies': [261, 267, 306, 338, 350, 682, 689, 867, 880]},\n {'user': 383, 'rec_movies': [261, 267, 306, 338, 350, 682, 689, 867, 880]},\n {'user': 384, 'rec_movies': [261, 267, 350, 867, 880]},\n {'user': 385, 'rec_movies': [261, 267, 306, 338, 350, 682, 689, 867, 880]},\n {'user': 386, 'rec_movies': [261, 267, 350, 867, 880]},\n {'user': 387, 'rec_movies': [261, 267, 338, 350, 682, 867, 880]},\n {'user': 388, 'rec_movies': [261, 267, 350, 867, 880]},\n {'user': 389, 'rec_movies': [261, 267, 306, 338, 350, 682, 689, 867, 880]},\n {'user': 390, 'rec_movies': [261, 267, 350, 867, 880]},\n {'user': 391, 'rec_movies': [261, 267, 338, 350, 682, 689, 867, 880]},\n {'user': 392, 'rec_movies': [261, 267, 306, 338, 350, 682, 689, 867, 880]},\n {'user': 393, 'rec_movies': [261, 267, 350, 867, 880]},\n {'user': 394, 'rec_movies': [261, 267, 350, 867, 880]},\n {'user': 395, 'rec_movies': [261, 267, 338, 350, 682, 867, 880]},\n {'user': 396, 'rec_movies': [261, 267, 350, 682, 867, 880]},\n {'user': 397, 'rec_movies': [261, 267, 338, 350, 682, 867, 880]},\n {'user': 398, 'rec_movies': [261, 267, 306, 338, 350, 682, 689, 867, 880]},\n {'user': 399, 'rec_movies': [261, 267, 350, 867, 880]},\n {'user': 400, 'rec_movies': [261, 267, 350, 867, 880]},\n {'user': 401, 'rec_movies': [261, 267, 306, 338, 350, 682, 689, 867, 880]},\n {'user': 402, 'rec_movies': [261, 267, 350, 682, 867, 880]},\n {'user': 403, 'rec_movies': [261, 267, 350, 867, 880]},\n {'user': 404, 'rec_movies': [261, 267, 350, 867, 880]},\n {'user': 405, 'rec_movies': [261, 267, 350, 867, 880]},\n {'user': 406, 'rec_movies': [261, 267, 306, 338, 350, 682, 689, 867, 880]},\n {'user': 407, 'rec_movies': [261, 267, 338, 350, 682, 689, 867, 880]},\n {'user': 408, 'rec_movies': [261, 267, 350, 867, 880]},\n {'user': 409, 'rec_movies': [261, 267, 306, 338, 350, 682, 689, 867, 880]},\n {'user': 410, 'rec_movies': [261, 267, 350, 867, 880]},\n {'user': 411, 'rec_movies': [261, 267, 338, 350, 682, 867, 880]},\n {'user': 412, 'rec_movies': [261, 267, 338, 350, 682, 867, 880]},\n {'user': 413, 'rec_movies': [261, 267, 338, 350, 682, 867, 880]},\n {'user': 414, 'rec_movies': [261, 267, 350, 867, 880]},\n {'user': 415, 'rec_movies': [261, 267, 306, 338, 350, 682, 689, 867, 880]},\n {'user': 416, 'rec_movies': [261, 267, 350, 867, 880]},\n {'user': 417, 'rec_movies': [261, 267, 350, 682, 867, 880]},\n {'user': 418, 'rec_movies': [261, 267, 350, 867, 880]},\n {'user': 419, 'rec_movies': [261, 267, 306, 338, 350, 682, 689, 867, 880]},\n {'user': 420, 'rec_movies': [261, 267, 306, 338, 350, 682, 689, 867, 880]},\n {'user': 421, 'rec_movies': [261, 267, 306, 338, 350, 682, 689, 867, 880]},\n {'user': 422, 'rec_movies': [18, 34, 37, 74, 75, 84, 104, 113, 119, 146]},\n {'user': 423, 'rec_movies': [261, 267, 338, 350, 682, 867, 880]},\n {'user': 424, 'rec_movies': [261, 267, 350, 867, 880]},\n {'user': 425, 'rec_movies': [261, 267, 350, 867, 880]},\n {'user': 426,\n  'rec_movies': [259, 261, 267, 306, 307, 332, 338, 340, 346, 350]},\n {'user': 427, 'rec_movies': [261, 267, 350, 867, 880]},\n {'user': 428, 'rec_movies': [261, 267, 350, 867, 880]},\n {'user': 429, 'rec_movies': [261, 267, 338, 350, 682, 867, 880]},\n {'user': 430, 'rec_movies': [261, 267, 338, 350, 682, 867, 880]},\n {'user': 431, 'rec_movies': [261, 267, 350, 867, 880]},\n {'user': 432, 'rec_movies': [261, 267, 350, 867, 880]},\n {'user': 433, 'rec_movies': [261, 267, 350, 867, 880]},\n {'user': 434, 'rec_movies': [261, 267, 350, 867, 880]},\n {'user': 435, 'rec_movies': [261, 267, 350, 867, 880]},\n {'user': 436, 'rec_movies': [261, 267, 350, 682, 867, 880]},\n {'user': 437, 'rec_movies': [261, 267, 338, 350, 682, 689, 867, 880]},\n {'user': 438, 'rec_movies': [261, 267, 350, 867, 880]},\n {'user': 439, 'rec_movies': [261, 267, 350, 867, 880]},\n {'user': 440, 'rec_movies': [261, 267, 350, 867, 880]},\n {'user': 441, 'rec_movies': [261, 267, 350, 867, 880]},\n {'user': 442, 'rec_movies': [261, 267, 350, 867, 880]},\n {'user': 443, 'rec_movies': [261, 267, 350, 867, 880]},\n {'user': 444, 'rec_movies': [261, 267, 350, 867, 880]},\n {'user': 445, 'rec_movies': [261, 267, 350, 867, 880]},\n {'user': 446, 'rec_movies': [261, 267, 338, 350, 682, 867, 880]},\n {'user': 447, 'rec_movies': [261, 267, 350, 867, 880]},\n {'user': 448, 'rec_movies': [261, 267, 350, 867, 880]},\n {'user': 449, 'rec_movies': [261, 267, 350, 867, 880]},\n {'user': 450, 'rec_movies': [261, 267, 306, 338, 350, 682, 689, 867, 880]},\n {'user': 451, 'rec_movies': [261, 267, 350, 867, 880]},\n {'user': 452, 'rec_movies': [261, 267, 306, 338, 350, 682, 689, 867, 880]},\n {'user': 453, 'rec_movies': [261, 267, 350, 867, 880]},\n {'user': 454, 'rec_movies': [261, 267, 306, 338, 350, 682, 689, 867, 880]},\n {'user': 455, 'rec_movies': [261, 267, 338, 350, 682, 867, 880]},\n {'user': 456, 'rec_movies': [261, 267, 338, 350, 682, 867, 880]},\n {'user': 457, 'rec_movies': [261, 267, 338, 350, 682, 867, 880]},\n {'user': 458, 'rec_movies': [261, 267, 306, 338, 350, 682, 689, 867, 880]},\n {'user': 459, 'rec_movies': [261, 267, 350, 867, 880]},\n {'user': 460, 'rec_movies': [261, 267, 350, 867, 880]},\n {'user': 461, 'rec_movies': [261, 267, 350, 867, 880]},\n {'user': 462, 'rec_movies': [261, 267, 350, 867, 880]},\n {'user': 463, 'rec_movies': [261, 267, 350, 867, 880]},\n {'user': 464, 'rec_movies': [261, 267, 338, 350, 682, 689, 867, 880]},\n {'user': 465, 'rec_movies': [261, 267, 306, 338, 350, 682, 689, 867, 880]},\n {'user': 466, 'rec_movies': [261, 267, 350, 867, 880]},\n {'user': 467, 'rec_movies': [261, 267, 350, 867, 880]},\n {'user': 468, 'rec_movies': [261, 267, 350, 682, 867, 880]},\n {'user': 469,\n  'rec_movies': [261, 267, 306, 332, 338, 346, 350, 358, 590, 682]},\n {'user': 470, 'rec_movies': [261, 267, 350, 867, 880]},\n {'user': 471, 'rec_movies': [261, 267, 338, 350, 682, 867, 880]},\n {'user': 472, 'rec_movies': [261, 267, 350, 867, 880]},\n {'user': 473, 'rec_movies': [261, 267, 350, 867, 880]},\n {'user': 474, 'rec_movies': [261, 267, 306, 338, 350, 682, 689, 867, 880]},\n {'user': 475, 'rec_movies': [261, 267, 350, 867, 880]},\n {'user': 476, 'rec_movies': [261, 267, 350, 867, 880]},\n {'user': 477, 'rec_movies': [261, 267, 350, 867, 880]},\n {'user': 478, 'rec_movies': [261, 267, 350, 682, 867, 880]},\n {'user': 479, 'rec_movies': [261, 267, 338, 350, 682, 867, 880]},\n {'user': 480, 'rec_movies': [261, 267, 306, 338, 350, 682, 689, 867, 880]},\n {'user': 481, 'rec_movies': [261, 267, 306, 338, 350, 682, 689, 867, 880]},\n {'user': 482, 'rec_movies': [261, 267, 350, 867, 880]},\n {'user': 483, 'rec_movies': [261, 267, 338, 350, 682, 867, 880]},\n {'user': 484, 'rec_movies': [261, 267, 350, 867, 880]},\n {'user': 485, 'rec_movies': [261, 267, 350, 867, 880]},\n {'user': 486, 'rec_movies': [261, 267, 350, 867, 880]},\n {'user': 487, 'rec_movies': [261, 267, 350, 867, 880]},\n {'user': 488, 'rec_movies': [261, 267, 306, 338, 350, 682, 689, 867, 880]},\n {'user': 489, 'rec_movies': [261, 267, 350, 682, 867, 880]},\n {'user': 490, 'rec_movies': [261, 267, 350, 867, 880]},\n {'user': 491, 'rec_movies': [261, 267, 338, 350, 682, 689, 867, 880]},\n {'user': 492, 'rec_movies': [261, 267, 306, 338, 350, 682, 689, 867, 880]},\n {'user': 493, 'rec_movies': [261, 267, 350, 867, 880]},\n {'user': 494, 'rec_movies': [261, 267, 338, 350, 682, 689, 867, 880]},\n {'user': 495, 'rec_movies': [261, 267, 338, 350, 682, 689, 867, 880]},\n {'user': 496, 'rec_movies': [261, 267, 338, 350, 682, 689, 867, 880]},\n {'user': 497, 'rec_movies': [261, 267, 350, 867, 880]},\n {'user': 498, 'rec_movies': [261, 267, 338, 350, 682, 689, 867, 880]},\n {'user': 499, 'rec_movies': [261, 267, 306, 338, 350, 682, 689, 867, 880]},\n {'user': 500, 'rec_movies': [261, 267, 350, 867, 880]},\n {'user': 501, 'rec_movies': [261, 267, 350, 867, 880]},\n {'user': 502, 'rec_movies': [261, 267, 350, 867, 880]},\n {'user': 503, 'rec_movies': [261, 267, 306, 338, 350, 682, 689, 867, 880]},\n {'user': 504, 'rec_movies': [261, 267, 338, 350, 682, 689, 867, 880]},\n {'user': 505, 'rec_movies': [261, 267, 338, 350, 682, 689, 867, 880]},\n {'user': 506, 'rec_movies': [261, 267, 306, 338, 350, 682, 689, 867, 880]},\n {'user': 507, 'rec_movies': [261, 267, 350, 867, 880]},\n {'user': 508, 'rec_movies': [261, 267, 338, 350, 682, 689, 867, 880]},\n {'user': 509, 'rec_movies': [261, 267, 350, 867, 880]},\n {'user': 510, 'rec_movies': [261, 267, 350, 867, 880]},\n {'user': 511, 'rec_movies': [261, 267, 350, 867, 880]},\n {'user': 512, 'rec_movies': [261, 267, 350, 867, 880]},\n {'user': 513, 'rec_movies': [261, 267, 350, 682, 867, 880]},\n {'user': 514, 'rec_movies': [261, 267, 338, 350, 682, 867, 880]},\n {'user': 515, 'rec_movies': [261, 267, 350, 867, 880]},\n {'user': 516, 'rec_movies': [261, 267, 306, 338, 350, 682, 689, 867, 880]},\n {'user': 517, 'rec_movies': [261, 267, 350, 867, 880]},\n {'user': 518, 'rec_movies': [261, 267, 350, 867, 880]},\n {'user': 519, 'rec_movies': [261, 267, 350, 867, 880]},\n {'user': 520, 'rec_movies': [261, 267, 338, 350, 682, 867, 880]},\n {'user': 521, 'rec_movies': [261, 267, 350, 867, 880]},\n {'user': 522, 'rec_movies': [261, 267, 306, 338, 350, 682, 689, 867, 880]},\n {'user': 523, 'rec_movies': [261, 267, 338, 350, 682, 689, 867, 880]},\n {'user': 524, 'rec_movies': [261, 267, 306, 338, 350, 682, 689, 867, 880]},\n {'user': 525, 'rec_movies': [261, 267, 350, 867, 880]},\n {'user': 526, 'rec_movies': [261, 267, 350, 867, 880]},\n {'user': 527, 'rec_movies': [261, 267, 306, 338, 350, 682, 689, 867, 880]},\n {'user': 528, 'rec_movies': [261, 267, 338, 350, 682, 867, 880]},\n {'user': 529, 'rec_movies': [261, 267, 350, 867, 880]},\n {'user': 530, 'rec_movies': [261, 267, 338, 350, 682, 867, 880]},\n {'user': 531, 'rec_movies': [261, 267, 350, 867, 880]},\n {'user': 532, 'rec_movies': [5, 16, 17, 18, 27, 30, 34, 35, 36, 37]},\n {'user': 533, 'rec_movies': [261, 267, 338, 350, 682, 689, 867, 880]},\n {'user': 534, 'rec_movies': [261, 267, 350, 867, 880]},\n {'user': 535, 'rec_movies': [261, 267, 306, 338, 350, 682, 689, 867, 880]},\n {'user': 536, 'rec_movies': [261, 267, 306, 338, 350, 682, 689, 867, 880]},\n {'user': 537, 'rec_movies': [261, 267, 338, 350, 682, 689, 867, 880]},\n {'user': 538, 'rec_movies': [261, 267, 338, 350, 682, 867, 880]},\n {'user': 539, 'rec_movies': [261, 267, 306, 338, 350, 682, 689, 867, 880]},\n {'user': 540, 'rec_movies': [261, 267, 350, 867, 880]},\n {'user': 541, 'rec_movies': [261, 267, 350, 682, 867, 880]},\n {'user': 542, 'rec_movies': [261, 267, 350, 867, 880]},\n {'user': 543, 'rec_movies': [261, 267, 338, 350, 682, 867, 880]},\n {'user': 544, 'rec_movies': [261, 267, 350, 867, 880]},\n {'user': 545, 'rec_movies': [261, 267, 338, 350, 682, 867, 880]},\n {'user': 546, 'rec_movies': [261, 267, 350, 867, 880]},\n {'user': 547, 'rec_movies': [261, 267, 350, 867, 880]},\n {'user': 548, 'rec_movies': [261, 267, 338, 350, 682, 867, 880]},\n {'user': 549, 'rec_movies': [261, 267, 350, 867, 880]},\n {'user': 550, 'rec_movies': [261, 267, 350, 867, 880]},\n {'user': 551, 'rec_movies': [261, 267, 350, 867, 880]},\n {'user': 552, 'rec_movies': [261, 267, 350, 867, 880]},\n {'user': 553,\n  'rec_movies': [261, 267, 306, 332, 338, 346, 350, 358, 590, 682]},\n {'user': 554, 'rec_movies': [261, 267, 350, 867, 880]},\n {'user': 555, 'rec_movies': [261, 267, 350, 867, 880]},\n {'user': 556, 'rec_movies': [261, 267, 306, 338, 350, 682, 689, 867, 880]},\n {'user': 557, 'rec_movies': [261, 267, 350, 867, 880]},\n {'user': 558, 'rec_movies': [261, 267, 338, 350, 682, 867, 880]},\n {'user': 559, 'rec_movies': [261, 267, 306, 338, 350, 682, 689, 867, 880]},\n {'user': 560, 'rec_movies': [261, 267, 338, 350, 682, 867, 880]},\n {'user': 561, 'rec_movies': [261, 267, 338, 350, 682, 867, 880]},\n {'user': 562, 'rec_movies': [261, 267, 306, 338, 350, 682, 689, 867, 880]},\n {'user': 563, 'rec_movies': [261, 267, 350, 867, 880]},\n {'user': 564, 'rec_movies': [261, 267, 338, 350, 682, 867, 880]},\n {'user': 565, 'rec_movies': [261, 267, 338, 350, 682, 689, 867, 880]},\n {'user': 566, 'rec_movies': [261, 267, 350, 682, 867, 880]},\n {'user': 567, 'rec_movies': [261, 267, 306, 338, 350, 682, 689, 867, 880]},\n {'user': 568,\n  'rec_movies': [261, 267, 306, 338, 350, 358, 682, 689, 750, 773]},\n {'user': 569, 'rec_movies': [261, 267, 350, 867, 880]},\n {'user': 570, 'rec_movies': [261, 267, 350, 867, 880]},\n {'user': 571, 'rec_movies': [261, 267, 306, 338, 350, 682, 689, 867, 880]},\n {'user': 572, 'rec_movies': [261, 267, 350, 682, 867, 880]},\n {'user': 573,\n  'rec_movies': [261, 267, 306, 338, 350, 358, 682, 689, 750, 773]},\n {'user': 574, 'rec_movies': [261, 267, 338, 350, 682, 867, 880]},\n {'user': 575, 'rec_movies': [261, 267, 306, 338, 350, 682, 689, 867, 880]},\n {'user': 576, 'rec_movies': [261, 267, 338, 350, 682, 867, 880]},\n {'user': 577, 'rec_movies': [261, 267, 338, 350, 682, 867, 880]},\n {'user': 578, 'rec_movies': [261, 267, 350, 867, 880]},\n {'user': 579, 'rec_movies': [261, 267, 338, 350, 682, 867, 880]},\n {'user': 580, 'rec_movies': [261, 267, 350, 867, 880]},\n {'user': 581, 'rec_movies': [261, 267, 350, 867, 880]},\n {'user': 582, 'rec_movies': [261, 267, 350, 867, 880]},\n {'user': 583, 'rec_movies': [261, 267, 306, 338, 350, 682, 689, 867, 880]},\n {'user': 584, 'rec_movies': [261, 267, 350, 867, 880]},\n {'user': 585, 'rec_movies': [261, 267, 306, 338, 350, 682, 689, 867, 880]},\n {'user': 586, 'rec_movies': [261, 267, 350, 867, 880]},\n {'user': 587, 'rec_movies': [261, 267, 350, 867, 880]},\n {'user': 588, 'rec_movies': [261, 267, 350, 867, 880]},\n {'user': 589, 'rec_movies': [261, 267, 350, 867, 880]},\n {'user': 590, 'rec_movies': [261, 267, 350, 682, 867, 880]},\n {'user': 591, 'rec_movies': [261, 267, 306, 338, 350, 682, 689, 867, 880]},\n {'user': 592, 'rec_movies': [261, 267, 350, 867, 880]},\n {'user': 593, 'rec_movies': [261, 267, 338, 350, 682, 867, 880]},\n {'user': 594, 'rec_movies': [261, 267, 338, 350, 682, 689, 867, 880]},\n {'user': 595, 'rec_movies': [261, 267, 350, 867, 880]},\n {'user': 596, 'rec_movies': [261, 267, 350, 867, 880]},\n {'user': 597, 'rec_movies': [261, 267, 350, 867, 880]},\n {'user': 598, 'rec_movies': [261, 267, 350, 867, 880]},\n {'user': 599, 'rec_movies': [261, 267, 350, 867, 880]},\n {'user': 600, 'rec_movies': [261, 267, 338, 350, 682, 867, 880]},\n {'user': 601, 'rec_movies': [261, 267, 350, 682, 867, 880]},\n {'user': 602, 'rec_movies': [261, 267, 350, 867, 880]},\n {'user': 603, 'rec_movies': [261, 267, 350, 867, 880]},\n {'user': 604, 'rec_movies': [261, 267, 306, 338, 350, 682, 689, 867, 880]},\n {'user': 605, 'rec_movies': [261, 267, 338, 350, 682, 867, 880]},\n {'user': 606, 'rec_movies': [261, 267, 350, 682, 867, 880]},\n {'user': 607, 'rec_movies': [261, 267, 306, 338, 350, 682, 689, 867, 880]},\n {'user': 608, 'rec_movies': [261, 267, 338, 350, 682, 689, 867, 880]},\n {'user': 609, 'rec_movies': [261, 267, 350, 867, 880]},\n {'user': 610, 'rec_movies': [261, 267, 338, 350, 682, 689, 867, 880]},\n {'user': 611, 'rec_movies': [261, 267, 350, 867, 880]},\n {'user': 612, 'rec_movies': [261, 267, 350, 682, 867, 880]},\n {'user': 613, 'rec_movies': [261, 267, 306, 338, 350, 682, 689, 867, 880]},\n {'user': 614, 'rec_movies': [261, 267, 338, 350, 682, 867, 880]},\n {'user': 615, 'rec_movies': [261, 267, 338, 350, 682, 689, 867, 880]},\n {'user': 616, 'rec_movies': [261, 267, 350, 867, 880]},\n {'user': 617, 'rec_movies': [261, 267, 306, 338, 350, 682, 689, 867, 880]},\n {'user': 618, 'rec_movies': [261, 267, 350, 682, 867, 880]},\n {'user': 619, 'rec_movies': [261, 267, 350, 867, 880]},\n {'user': 620, 'rec_movies': [261, 267, 350, 867, 880]},\n {'user': 621, 'rec_movies': [261, 267, 350, 867, 880]},\n {'user': 622, 'rec_movies': [261, 267, 338, 350, 682, 867, 880]},\n {'user': 623, 'rec_movies': [261, 267, 306, 338, 350, 682, 689, 867, 880]},\n {'user': 624, 'rec_movies': [261, 267, 350, 867, 880]},\n {'user': 625, 'rec_movies': [261, 267, 338, 350, 682, 689, 867, 880]},\n {'user': 626, 'rec_movies': [261, 267, 350, 867, 880]},\n {'user': 627, 'rec_movies': [261, 267, 350, 867, 880]},\n {'user': 628, 'rec_movies': [261, 267, 350, 867, 880]},\n {'user': 629, 'rec_movies': [261, 267, 338, 350, 682, 689, 867, 880]},\n {'user': 630, 'rec_movies': [261, 267, 350, 867, 880]},\n {'user': 631, 'rec_movies': [261, 267, 350, 867, 880]},\n {'user': 632, 'rec_movies': [261, 267, 338, 350, 682, 867, 880]},\n {'user': 633, 'rec_movies': [261, 267, 350, 682, 867, 880]},\n {'user': 634, 'rec_movies': [261, 267, 350, 867, 880]},\n {'user': 635, 'rec_movies': [261, 267, 350, 867, 880]},\n {'user': 636, 'rec_movies': [261, 267, 350, 867, 880]},\n {'user': 637, 'rec_movies': [261, 267, 350, 867, 880]},\n {'user': 638, 'rec_movies': [261, 267, 306, 338, 350, 682, 689, 867, 880]},\n {'user': 639, 'rec_movies': [261, 267, 306, 338, 350, 682, 689, 867, 880]},\n {'user': 640, 'rec_movies': [261, 267, 350, 867, 880]},\n {'user': 641, 'rec_movies': [261, 267, 306, 338, 350, 682, 689, 867, 880]},\n {'user': 642, 'rec_movies': [261, 267, 350, 867, 880]},\n {'user': 643, 'rec_movies': [261, 267, 306, 338, 350, 682, 689, 867, 880]},\n {'user': 644, 'rec_movies': [261, 267, 350, 867, 880]},\n {'user': 645, 'rec_movies': [261, 267, 306, 338, 350, 682, 689, 867, 880]},\n {'user': 646, 'rec_movies': [261, 267, 350, 867, 880]},\n {'user': 647, 'rec_movies': [261, 267, 338, 350, 682, 689, 867, 880]},\n {'user': 648, 'rec_movies': [261, 267, 338, 350, 682, 689, 867, 880]},\n {'user': 649, 'rec_movies': [261, 267, 350, 867, 880]},\n {'user': 650, 'rec_movies': [261, 267, 306, 338, 350, 682, 689, 867, 880]},\n {'user': 651, 'rec_movies': [261, 267, 338, 350, 682, 689, 867, 880]},\n {'user': 652, 'rec_movies': [261, 267, 350, 867, 880]},\n {'user': 653, 'rec_movies': [261, 267, 338, 350, 682, 867, 880]},\n {'user': 654, 'rec_movies': [261, 267, 350, 867, 880]},\n {'user': 655, 'rec_movies': [261, 267, 338, 350, 682, 689, 867, 880]},\n {'user': 656, 'rec_movies': [261, 267, 350, 867, 880]},\n {'user': 657, 'rec_movies': [261, 267, 350, 867, 880]},\n {'user': 658, 'rec_movies': [261, 267, 338, 350, 682, 867, 880]},\n {'user': 659, 'rec_movies': [261, 267, 306, 338, 350, 682, 689, 867, 880]},\n {'user': 660, 'rec_movies': [261, 267, 338, 350, 682, 867, 880]},\n {'user': 661, 'rec_movies': [261, 267, 338, 350, 682, 689, 867, 880]},\n {'user': 662, 'rec_movies': [261, 267, 338, 350, 682, 867, 880]},\n {'user': 663, 'rec_movies': [261, 267, 350, 867, 880]},\n {'user': 664, 'rec_movies': [261, 267, 338, 350, 682, 689, 867, 880]},\n {'user': 665, 'rec_movies': [261, 267, 350, 867, 880]},\n {'user': 666, 'rec_movies': [261, 267, 306, 338, 350, 682, 689, 867, 880]},\n {'user': 667, 'rec_movies': [261, 267, 338, 350, 682, 867, 880]},\n {'user': 668, 'rec_movies': [261, 267, 350, 867, 880]},\n {'user': 669, 'rec_movies': [261, 267, 338, 350, 682, 689, 867, 880]},\n {'user': 670, 'rec_movies': [261, 267, 306, 338, 350, 682, 689, 867, 880]},\n {'user': 671, 'rec_movies': [261, 267, 350, 867, 880]},\n {'user': 672, 'rec_movies': [261, 267, 338, 350, 682, 867, 880]},\n {'user': 673, 'rec_movies': [261, 267, 350, 682, 867, 880]},\n {'user': 674, 'rec_movies': [261, 267, 350, 867, 880]},\n {'user': 675, 'rec_movies': [261, 267, 350, 867, 880]},\n {'user': 676, 'rec_movies': [261, 267, 350, 867, 880]},\n {'user': 677, 'rec_movies': [261, 267, 350, 867, 880]},\n {'user': 678, 'rec_movies': [261, 267, 338, 350, 682, 867, 880]},\n {'user': 679, 'rec_movies': [261, 267, 350, 682, 867, 880]},\n {'user': 680, 'rec_movies': [261, 267, 350, 867, 880]},\n {'user': 681, 'rec_movies': [261, 267, 350, 867, 880]},\n {'user': 682, 'rec_movies': [261, 267, 350, 867, 880]},\n {'user': 683, 'rec_movies': [261, 267, 350, 682, 867, 880]},\n {'user': 684, 'rec_movies': [261, 267, 350, 867, 880]},\n {'user': 685, 'rec_movies': [261, 267, 350, 867, 880]},\n {'user': 686, 'rec_movies': [261, 267, 306, 338, 350, 682, 689, 867, 880]},\n {'user': 687, 'rec_movies': [261, 267, 350, 867, 880]},\n {'user': 688, 'rec_movies': [261, 267, 350, 867, 880]},\n {'user': 689, 'rec_movies': [261, 267, 350, 867, 880]},\n {'user': 690, 'rec_movies': [261, 267, 338, 350, 682, 867, 880]},\n {'user': 691, 'rec_movies': [261, 267, 306, 338, 350, 682, 689, 867, 880]},\n {'user': 692, 'rec_movies': [261, 267, 350, 867, 880]},\n {'user': 693, 'rec_movies': [261, 267, 306, 338, 350, 682, 689, 867, 880]},\n {'user': 694,\n  'rec_movies': [261, 267, 306, 338, 350, 358, 682, 689, 750, 773]},\n {'user': 695, 'rec_movies': [261, 267, 350, 867, 880]},\n {'user': 696, 'rec_movies': [261, 267, 306, 338, 350, 682, 689, 867, 880]},\n {'user': 697, 'rec_movies': [261, 267, 350, 867, 880]},\n {'user': 698, 'rec_movies': [261, 267, 306, 338, 350, 682, 689, 867, 880]},\n {'user': 699, 'rec_movies': [261, 267, 350, 682, 867, 880]},\n {'user': 700, 'rec_movies': [261, 267, 350, 867, 880]},\n {'user': 701, 'rec_movies': [261, 267, 350, 867, 880]},\n {'user': 702, 'rec_movies': [261, 267, 350, 867, 880]},\n {'user': 703, 'rec_movies': [261, 267, 350, 867, 880]},\n {'user': 704,\n  'rec_movies': [261, 267, 306, 338, 350, 682, 689, 859, 867, 880]},\n {'user': 705, 'rec_movies': [261, 267, 350, 867, 880]},\n {'user': 706, 'rec_movies': [261, 267, 350, 867, 880]},\n {'user': 707, 'rec_movies': [261, 267, 306, 338, 350, 682, 689, 867, 880]},\n {'user': 708, 'rec_movies': [261, 267, 350, 867, 880]},\n {'user': 709, 'rec_movies': [261, 267, 350, 867, 880]},\n {'user': 710, 'rec_movies': [261, 267, 338, 350, 682, 689, 867, 880]},\n {'user': 711, 'rec_movies': [261, 267, 350, 867, 880]},\n {'user': 712, 'rec_movies': [261, 267, 338, 350, 682, 867, 880]},\n {'user': 713, 'rec_movies': [261, 267, 350, 867, 880]},\n {'user': 714, 'rec_movies': [261, 267, 350, 867, 880]},\n {'user': 715, 'rec_movies': [261, 267, 350, 867, 880]},\n {'user': 716, 'rec_movies': [261, 267, 306, 338, 350, 682, 689, 867, 880]},\n {'user': 717, 'rec_movies': [261, 267, 350, 867, 880]},\n {'user': 718, 'rec_movies': [261, 267, 350, 867, 880]},\n {'user': 719, 'rec_movies': [261, 267, 338, 350, 682, 867, 880]},\n {'user': 720, 'rec_movies': [261, 267, 350, 867, 880]},\n {'user': 721, 'rec_movies': [261, 267, 350, 867, 880]},\n {'user': 722, 'rec_movies': [261, 267, 350, 867, 880]},\n {'user': 723, 'rec_movies': [261, 267, 350, 867, 880]},\n {'user': 724, 'rec_movies': [261, 267, 350, 867, 880]},\n {'user': 725, 'rec_movies': [261, 267, 350, 867, 880]},\n {'user': 726, 'rec_movies': [261, 267, 350, 867, 880]},\n {'user': 727, 'rec_movies': [261, 267, 350, 867, 880]},\n {'user': 728, 'rec_movies': [261, 267, 338, 350, 682, 867, 880]},\n {'user': 729, 'rec_movies': [261, 267, 350, 867, 880]},\n {'user': 730, 'rec_movies': [261, 267, 350, 867, 880]},\n {'user': 731, 'rec_movies': [261, 267, 306, 338, 350, 682, 689, 867, 880]},\n {'user': 732, 'rec_movies': [261, 267, 350, 867, 880]},\n {'user': 733, 'rec_movies': [261, 267, 350, 867, 880]},\n {'user': 734, 'rec_movies': [261, 267, 306, 338, 350, 682, 689, 867, 880]},\n {'user': 735, 'rec_movies': [261, 267, 350, 867, 880]},\n {'user': 736, 'rec_movies': [261, 267, 350, 867, 880]},\n {'user': 737, 'rec_movies': [261, 267, 338, 350, 682, 689, 867, 880]},\n {'user': 738, 'rec_movies': [261, 267, 338, 350, 682, 689, 867, 880]},\n {'user': 739, 'rec_movies': [261, 267, 338, 350, 682, 689, 867, 880]},\n {'user': 740, 'rec_movies': [261, 267, 350, 867, 880]},\n {'user': 741, 'rec_movies': [261, 267, 350, 682, 867, 880]},\n {'user': 742, 'rec_movies': [261, 267, 350, 867, 880]},\n {'user': 743, 'rec_movies': [261, 267, 350, 867, 880]},\n {'user': 744, 'rec_movies': [261, 267, 306, 338, 350, 682, 689, 867, 880]},\n {'user': 745, 'rec_movies': [261, 267, 306, 338, 350, 682, 689, 867, 880]},\n {'user': 746, 'rec_movies': [261, 267, 350, 682, 867, 880]},\n {'user': 747, 'rec_movies': [261, 267, 338, 350, 682, 689, 867, 880]},\n {'user': 748, 'rec_movies': [261, 267, 338, 350, 682, 689, 867, 880]},\n {'user': 749, 'rec_movies': [261, 267, 338, 350, 682, 689, 867, 880]},\n {'user': 750, 'rec_movies': [261, 267, 350, 867, 880]},\n {'user': 751, 'rec_movies': [261, 267, 338, 350, 682, 867, 880]},\n {'user': 752, 'rec_movies': [261, 267, 338, 350, 682, 867, 880]},\n {'user': 753, 'rec_movies': [261, 267, 306, 338, 350, 682, 689, 867, 880]},\n {'user': 754, 'rec_movies': [261, 267, 338, 350, 682, 867, 880]},\n {'user': 755, 'rec_movies': [261, 267, 350, 867, 880]},\n {'user': 756, 'rec_movies': [261, 267, 338, 350, 682, 867, 880]},\n {'user': 757, 'rec_movies': [261, 267, 350, 867, 880]},\n {'user': 758, 'rec_movies': [261, 267, 338, 350, 682, 867, 880]},\n {'user': 759, 'rec_movies': [261, 267, 350, 867, 880]},\n {'user': 760, 'rec_movies': [261, 267, 338, 350, 682, 867, 880]},\n {'user': 761, 'rec_movies': [261, 267, 350, 867, 880]},\n {'user': 762, 'rec_movies': [261, 267, 350, 867, 880]},\n {'user': 763, 'rec_movies': [261, 267, 338, 350, 682, 867, 880]},\n {'user': 764, 'rec_movies': [261, 267, 350, 867, 880]},\n {'user': 765, 'rec_movies': [261, 267, 338, 350, 682, 867, 880]},\n {'user': 766, 'rec_movies': [261, 267, 306, 338, 350, 682, 689, 867, 880]},\n {'user': 767,\n  'rec_movies': [261, 267, 306, 338, 346, 350, 358, 682, 689, 750]},\n {'user': 768, 'rec_movies': [261, 267, 350, 867, 880]},\n {'user': 769, 'rec_movies': [261, 267, 350, 867, 880]},\n {'user': 770, 'rec_movies': [261, 267, 350, 867, 880]},\n {'user': 771, 'rec_movies': [261, 267, 350, 867, 880]},\n {'user': 772, 'rec_movies': [261, 267, 350, 867, 880]},\n {'user': 773, 'rec_movies': [261, 267, 350, 867, 880]},\n {'user': 774, 'rec_movies': [261, 267, 338, 350, 682, 867, 880]},\n {'user': 775, 'rec_movies': [261, 267, 350, 867, 880]},\n {'user': 776, 'rec_movies': [261, 267, 306, 338, 350, 682, 689, 867, 880]},\n {'user': 777, 'rec_movies': [261, 267, 306, 338, 350, 682, 689, 867, 880]},\n {'user': 778, 'rec_movies': [261, 267, 338, 350, 682, 867, 880]},\n {'user': 779, 'rec_movies': [261, 267, 350, 867, 880]},\n {'user': 780, 'rec_movies': [261, 267, 306, 338, 350, 682, 689, 867, 880]},\n {'user': 781, 'rec_movies': [261, 267, 338, 350, 682, 867, 880]},\n {'user': 782, 'rec_movies': [261, 267, 350, 867, 880]},\n {'user': 783, 'rec_movies': [261, 267, 350, 867, 880]},\n {'user': 784, 'rec_movies': [261, 267, 350, 867, 880]},\n {'user': 785, 'rec_movies': [261, 267, 338, 350, 682, 689, 867, 880]},\n {'user': 786, 'rec_movies': [261, 267, 306, 338, 350, 682, 689, 867, 880]},\n {'user': 787, 'rec_movies': [261, 267, 350, 867, 880]},\n {'user': 788, 'rec_movies': [261, 267, 306, 338, 350, 682, 689, 867, 880]},\n {'user': 789, 'rec_movies': [261, 267, 350, 867, 880]},\n {'user': 790, 'rec_movies': [261, 267, 350, 867, 880]},\n {'user': 791, 'rec_movies': [261, 267, 350, 867, 880]},\n {'user': 792, 'rec_movies': [261, 267, 350, 867, 880]},\n {'user': 793, 'rec_movies': [261, 267, 350, 867, 880]},\n {'user': 794, 'rec_movies': [261, 267, 350, 867, 880]},\n {'user': 795, 'rec_movies': [261, 267, 350, 682, 867, 880]},\n {'user': 796, 'rec_movies': [261, 267, 338, 350, 682, 867, 880]},\n {'user': 797, 'rec_movies': [261, 267, 350, 867, 880]},\n {'user': 798, 'rec_movies': [261, 267, 338, 350, 682, 689, 867, 880]},\n {'user': 799, 'rec_movies': [261, 267, 306, 338, 350, 682, 689, 867, 880]},\n {'user': 800, 'rec_movies': [261, 267, 350, 867, 880]},\n {'user': 801, 'rec_movies': [261, 267, 350, 867, 880]},\n {'user': 802, 'rec_movies': [261, 267, 338, 350, 682, 867, 880]},\n {'user': 803, 'rec_movies': [261, 267, 338, 350, 682, 867, 880]},\n {'user': 804, 'rec_movies': [261, 267, 338, 350, 682, 689, 867, 880]},\n {'user': 805, 'rec_movies': [261, 267, 350, 682, 867, 880]},\n {'user': 806, 'rec_movies': [261, 267, 338, 350, 682, 867, 880]},\n {'user': 807, 'rec_movies': [261, 267, 306, 338, 350, 682, 689, 867, 880]},\n {'user': 808, 'rec_movies': [261, 267, 350, 867, 880]},\n {'user': 809, 'rec_movies': [261, 267, 350, 867, 880]},\n {'user': 810, 'rec_movies': [261, 267, 350, 682, 867, 880]},\n {'user': 811, 'rec_movies': [261, 267, 350, 867, 880]},\n {'user': 812, 'rec_movies': [261, 267, 350, 867, 880]},\n {'user': 813, 'rec_movies': [261, 267, 350, 867, 880]},\n {'user': 814, 'rec_movies': [261, 267, 338, 350, 682, 689, 867, 880]},\n {'user': 815, 'rec_movies': [261, 267, 306, 338, 350, 682, 689, 867, 880]},\n {'user': 816, 'rec_movies': [261, 267, 350, 867, 880]},\n {'user': 817, 'rec_movies': [261, 267, 350, 867, 880]},\n {'user': 818, 'rec_movies': [261, 267, 350, 867, 880]},\n {'user': 819, 'rec_movies': [261, 267, 338, 350, 682, 867, 880]},\n {'user': 820, 'rec_movies': [261, 267, 350, 867, 880]},\n {'user': 821, 'rec_movies': [261, 267, 338, 350, 682, 689, 867, 880]},\n {'user': 822, 'rec_movies': [261, 267, 350, 867, 880]},\n {'user': 823, 'rec_movies': [261, 267, 338, 350, 682, 867, 880]},\n {'user': 824, 'rec_movies': [261, 267, 350, 867, 880]},\n {'user': 825, 'rec_movies': [261, 267, 350, 867, 880]},\n {'user': 826, 'rec_movies': [261, 267, 350, 682, 867, 880]},\n {'user': 827, 'rec_movies': [261, 267, 350, 867, 880]},\n {'user': 828, 'rec_movies': [261, 267, 350, 867, 880]},\n {'user': 829, 'rec_movies': [261, 267, 338, 350, 682, 867, 880]},\n {'user': 830, 'rec_movies': [261, 267, 306, 338, 350, 682, 689, 867, 880]},\n {'user': 831, 'rec_movies': [261, 267, 350, 867, 880]},\n {'user': 832, 'rec_movies': [261, 267, 350, 867, 880]},\n {'user': 833, 'rec_movies': [5, 16, 17, 18, 27, 30, 34, 35, 36, 37]},\n {'user': 834, 'rec_movies': [261, 267, 350, 867, 880]},\n {'user': 835, 'rec_movies': [261, 267, 306, 338, 350, 682, 689, 867, 880]},\n {'user': 836, 'rec_movies': [261, 267, 306, 338, 350, 682, 689, 867, 880]},\n {'user': 837, 'rec_movies': [261, 267, 350, 867, 880]},\n {'user': 838, 'rec_movies': [261, 267, 350, 867, 880]},\n {'user': 839, 'rec_movies': [261, 267, 350, 867, 880]},\n {'user': 840, 'rec_movies': [261, 267, 306, 338, 350, 682, 689, 867, 880]},\n {'user': 841, 'rec_movies': [261, 267, 350, 867, 880]},\n {'user': 842, 'rec_movies': [261, 267, 350, 867, 880]},\n {'user': 843, 'rec_movies': [261, 267, 306, 338, 350, 682, 689, 867, 880]},\n {'user': 844, 'rec_movies': [261, 267, 350, 867, 880]},\n {'user': 845, 'rec_movies': [261, 267, 338, 350, 682, 867, 880]},\n {'user': 846, 'rec_movies': [261, 267, 338, 350, 682, 689, 867, 880]},\n {'user': 847, 'rec_movies': [261, 267, 338, 350, 682, 689, 867, 880]},\n {'user': 848, 'rec_movies': [261, 267, 306, 338, 350, 682, 689, 867, 880]},\n {'user': 849, 'rec_movies': [261, 267, 338, 350, 682, 867, 880]},\n {'user': 850, 'rec_movies': [261, 267, 306, 338, 350, 682, 689, 867, 880]},\n {'user': 851, 'rec_movies': [261, 267, 350, 867, 880]},\n {'user': 852, 'rec_movies': [261, 267, 350, 867, 880]},\n {'user': 853, 'rec_movies': [261, 267, 350, 867, 880]},\n {'user': 854, 'rec_movies': [261, 267, 338, 350, 682, 867, 880]},\n {'user': 855, 'rec_movies': [261, 267, 306, 338, 350, 682, 689, 867, 880]},\n {'user': 856, 'rec_movies': [261, 267, 350, 867, 880]},\n {'user': 857, 'rec_movies': [261, 267, 350, 867, 880]},\n {'user': 858, 'rec_movies': [261, 267, 338, 350, 682, 689, 867, 880]},\n {'user': 859, 'rec_movies': [261, 267, 350, 867, 880]},\n {'user': 860, 'rec_movies': [261, 267, 338, 350, 682, 689, 867, 880]},\n {'user': 861, 'rec_movies': [261, 267, 350, 867, 880]},\n {'user': 862, 'rec_movies': [261, 267, 338, 350, 682, 689, 867, 880]},\n {'user': 863, 'rec_movies': [261, 267, 350, 867, 880]},\n {'user': 864, 'rec_movies': [261, 267, 350, 682, 867, 880]},\n {'user': 865, 'rec_movies': [261, 267, 350, 867, 880]},\n {'user': 866, 'rec_movies': [261, 267, 350, 867, 880]},\n {'user': 867, 'rec_movies': [261, 267, 338, 350, 682, 867, 880]},\n {'user': 868, 'rec_movies': [261, 267, 338, 350, 682, 867, 880]},\n {'user': 869, 'rec_movies': [261, 267, 350, 867, 880]},\n {'user': 870, 'rec_movies': [261, 267, 338, 350, 682, 867, 880]},\n {'user': 871, 'rec_movies': [261, 267, 350, 867, 880]},\n {'user': 872, 'rec_movies': [261, 267, 350, 867, 880]},\n {'user': 873, 'rec_movies': [261, 267, 350, 867, 880]},\n {'user': 874, 'rec_movies': [261, 267, 350, 682, 867, 880]},\n {'user': 875, 'rec_movies': [261, 267, 338, 350, 682, 689, 867, 880]},\n {'user': 876, 'rec_movies': [261, 267, 306, 338, 350, 682, 689, 867, 880]},\n {'user': 877, 'rec_movies': [261, 267, 350, 867, 880]},\n {'user': 878, 'rec_movies': [261, 267, 306, 338, 350, 682, 689, 867, 880]},\n {'user': 879, 'rec_movies': [261, 267, 350, 867, 880]},\n {'user': 880, 'rec_movies': [261, 267, 350, 867, 880]},\n {'user': 881, 'rec_movies': [261, 267, 306, 338, 350, 682, 689, 867, 880]},\n {'user': 882, 'rec_movies': [261, 267, 338, 350, 682, 689, 867, 880]},\n {'user': 883, 'rec_movies': [261, 267, 338, 350, 682, 689, 867, 880]},\n {'user': 884, 'rec_movies': [261, 267, 338, 350, 682, 689, 867, 880]},\n {'user': 885, 'rec_movies': [261, 267, 338, 350, 682, 867, 880]},\n {'user': 886, 'rec_movies': [261, 267, 350, 867, 880]},\n {'user': 887, 'rec_movies': [261, 267, 350, 867, 880]},\n {'user': 888, 'rec_movies': [261, 267, 350, 682, 867, 880]},\n {'user': 889, 'rec_movies': [261, 267, 350, 682, 867, 880]},\n {'user': 890, 'rec_movies': [261, 267, 306, 338, 350, 682, 689, 867, 880]},\n {'user': 891, 'rec_movies': [261, 267, 350, 682, 867, 880]},\n {'user': 892, 'rec_movies': [261, 267, 306, 338, 350, 682, 689, 867, 880]},\n {'user': 893, 'rec_movies': [261, 267, 350, 867, 880]},\n {'user': 894, 'rec_movies': [261, 267, 350, 682, 867, 880]},\n {'user': 895, 'rec_movies': [261, 267, 350, 867, 880]},\n {'user': 896, 'rec_movies': [261, 267, 338, 350, 682, 867, 880]},\n {'user': 897, 'rec_movies': [261, 267, 306, 338, 350, 682, 689, 867, 880]},\n {'user': 898, 'rec_movies': [261, 267, 350, 867, 880]},\n {'user': 899, 'rec_movies': [261, 267, 338, 350, 682, 689, 867, 880]},\n {'user': 900, 'rec_movies': [261, 267, 306, 338, 350, 682, 689, 867, 880]},\n {'user': 901, 'rec_movies': [261, 267, 338, 350, 682, 867, 880]},\n {'user': 902, 'rec_movies': [261, 267, 338, 350, 682, 689, 867, 880]},\n {'user': 903, 'rec_movies': [261, 267, 350, 682, 867, 880]},\n {'user': 904, 'rec_movies': [261, 267, 350, 867, 880]},\n {'user': 905, 'rec_movies': [261, 267, 350, 867, 880]},\n {'user': 906, 'rec_movies': [261, 267, 350, 867, 880]},\n {'user': 907, 'rec_movies': [261, 267, 350, 867, 880]},\n {'user': 908, 'rec_movies': [261, 267, 306, 338, 350, 682, 689, 867, 880]},\n {'user': 909, 'rec_movies': [261, 267, 338, 350, 682, 867, 880]},\n {'user': 910, 'rec_movies': [261, 267, 350, 867, 880]},\n {'user': 911, 'rec_movies': [261, 267, 306, 338, 350, 682, 689, 867, 880]},\n {'user': 912,\n  'rec_movies': [261, 267, 306, 338, 350, 358, 682, 689, 750, 773]},\n {'user': 913, 'rec_movies': [261, 267, 338, 350, 682, 689, 867, 880]},\n {'user': 914, 'rec_movies': [261, 267, 338, 350, 682, 867, 880]},\n {'user': 915, 'rec_movies': [261, 267, 350, 867, 880]},\n {'user': 916, 'rec_movies': [261, 267, 350, 867, 880]},\n {'user': 917, 'rec_movies': [261, 267, 350, 867, 880]},\n {'user': 918, 'rec_movies': [261, 267, 306, 338, 350, 682, 689, 867, 880]},\n {'user': 919, 'rec_movies': [261, 267, 350, 867, 880]},\n {'user': 920, 'rec_movies': [261, 267, 350, 867, 880]},\n {'user': 921, 'rec_movies': [261, 267, 350, 867, 880]},\n {'user': 922, 'rec_movies': [261, 267, 350, 867, 880]},\n {'user': 923, 'rec_movies': [261, 267, 350, 867, 880]},\n {'user': 924, 'rec_movies': [261, 267, 338, 350, 682, 689, 867, 880]},\n {'user': 925, 'rec_movies': [261, 267, 350, 867, 880]},\n {'user': 926, 'rec_movies': [261, 267, 350, 867, 880]},\n {'user': 927, 'rec_movies': [261, 267, 350, 867, 880]},\n {'user': 928, 'rec_movies': [261, 267, 338, 350, 682, 867, 880]},\n {'user': 929, 'rec_movies': [261, 267, 306, 338, 350, 682, 689, 867, 880]},\n {'user': 930, 'rec_movies': [261, 267, 350, 867, 880]},\n {'user': 931, 'rec_movies': [261, 267, 338, 350, 682, 867, 880]},\n {'user': 932,\n  'rec_movies': [261, 267, 306, 338, 350, 358, 682, 689, 750, 773]},\n {'user': 933, 'rec_movies': [261, 267, 350, 682, 867, 880]},\n {'user': 934, 'rec_movies': [261, 267, 306, 338, 350, 682, 689, 867, 880]},\n {'user': 935, 'rec_movies': [261, 267, 350, 867, 880]},\n {'user': 936, 'rec_movies': [261, 267, 350, 867, 880]},\n {'user': 937, 'rec_movies': [261, 267, 350, 682, 867, 880]},\n {'user': 938, 'rec_movies': [261, 267, 350, 867, 880]},\n {'user': 939, 'rec_movies': [261, 267, 350, 867, 880]},\n {'user': 940, 'rec_movies': [261, 267, 338, 350, 682, 867, 880]},\n {'user': 941, 'rec_movies': [261, 267, 350, 867, 880]},\n {'user': 942, 'rec_movies': [261, 267, 306, 338, 350, 682, 689, 867, 880]},\n {'user': 943, 'rec_movies': [261, 267, 350, 867, 880]}]"
     },
     "execution_count": 193,
     "metadata": {},
     "output_type": "execute_result"
    }
   ],
   "source": [
    "movie_recs"
   ],
   "metadata": {
    "collapsed": false,
    "ExecuteTime": {
     "end_time": "2023-11-26T09:10:27.442893400Z",
     "start_time": "2023-11-26T09:10:27.379384800Z"
    }
   },
   "id": "6b15a707d27ccd21"
  }
 ],
 "metadata": {
  "kernelspec": {
   "display_name": "Python 3",
   "language": "python",
   "name": "python3"
  },
  "language_info": {
   "codemirror_mode": {
    "name": "ipython",
    "version": 2
   },
   "file_extension": ".py",
   "mimetype": "text/x-python",
   "name": "python",
   "nbconvert_exporter": "python",
   "pygments_lexer": "ipython2",
   "version": "2.7.6"
  }
 },
 "nbformat": 4,
 "nbformat_minor": 5
}
